{
 "cells": [
  {
   "cell_type": "code",
   "execution_count": 2,
   "metadata": {},
   "outputs": [],
   "source": [
    "import pandas as pd\n",
    "import numpy as np\n",
    "import matplotlib.pyplot as plt\n",
    "import seaborn as sns\n",
    "%matplotlib inline"
   ]
  },
  {
   "cell_type": "code",
   "execution_count": 3,
   "metadata": {},
   "outputs": [
    {
     "data": {
      "text/html": [
       "<div>\n",
       "<style scoped>\n",
       "    .dataframe tbody tr th:only-of-type {\n",
       "        vertical-align: middle;\n",
       "    }\n",
       "\n",
       "    .dataframe tbody tr th {\n",
       "        vertical-align: top;\n",
       "    }\n",
       "\n",
       "    .dataframe thead th {\n",
       "        text-align: right;\n",
       "    }\n",
       "</style>\n",
       "<table border=\"1\" class=\"dataframe\">\n",
       "  <thead>\n",
       "    <tr style=\"text-align: right;\">\n",
       "      <th></th>\n",
       "      <th>Country</th>\n",
       "      <th>Fraction age 0-14 years</th>\n",
       "      <th>Fraction age 15-64 years</th>\n",
       "      <th>Fraction age 65+ years</th>\n",
       "    </tr>\n",
       "  </thead>\n",
       "  <tbody>\n",
       "    <tr>\n",
       "      <th>0</th>\n",
       "      <td>USA</td>\n",
       "      <td>0.189</td>\n",
       "      <td>0.657</td>\n",
       "      <td>0.154</td>\n",
       "    </tr>\n",
       "    <tr>\n",
       "      <th>1</th>\n",
       "      <td>Russia</td>\n",
       "      <td>0.176</td>\n",
       "      <td>0.682</td>\n",
       "      <td>0.142</td>\n",
       "    </tr>\n",
       "    <tr>\n",
       "      <th>2</th>\n",
       "      <td>Spain</td>\n",
       "      <td>0.147</td>\n",
       "      <td>0.659</td>\n",
       "      <td>0.194</td>\n",
       "    </tr>\n",
       "    <tr>\n",
       "      <th>3</th>\n",
       "      <td>Brazil</td>\n",
       "      <td>0.217</td>\n",
       "      <td>0.697</td>\n",
       "      <td>0.086</td>\n",
       "    </tr>\n",
       "    <tr>\n",
       "      <th>4</th>\n",
       "      <td>UK</td>\n",
       "      <td>0.177</td>\n",
       "      <td>0.638</td>\n",
       "      <td>0.185</td>\n",
       "    </tr>\n",
       "    <tr>\n",
       "      <th>...</th>\n",
       "      <td>...</td>\n",
       "      <td>...</td>\n",
       "      <td>...</td>\n",
       "      <td>...</td>\n",
       "    </tr>\n",
       "    <tr>\n",
       "      <th>208</th>\n",
       "      <td>St. Barth</td>\n",
       "      <td>NaN</td>\n",
       "      <td>NaN</td>\n",
       "      <td>NaN</td>\n",
       "    </tr>\n",
       "    <tr>\n",
       "      <th>209</th>\n",
       "      <td>Western Sahara</td>\n",
       "      <td>NaN</td>\n",
       "      <td>NaN</td>\n",
       "      <td>NaN</td>\n",
       "    </tr>\n",
       "    <tr>\n",
       "      <th>210</th>\n",
       "      <td>Anguilla</td>\n",
       "      <td>NaN</td>\n",
       "      <td>NaN</td>\n",
       "      <td>NaN</td>\n",
       "    </tr>\n",
       "    <tr>\n",
       "      <th>211</th>\n",
       "      <td>Lesotho</td>\n",
       "      <td>0.354</td>\n",
       "      <td>0.601</td>\n",
       "      <td>0.045</td>\n",
       "    </tr>\n",
       "    <tr>\n",
       "      <th>212</th>\n",
       "      <td>Saint Pierre Miquelon</td>\n",
       "      <td>NaN</td>\n",
       "      <td>NaN</td>\n",
       "      <td>NaN</td>\n",
       "    </tr>\n",
       "  </tbody>\n",
       "</table>\n",
       "<p>213 rows × 4 columns</p>\n",
       "</div>"
      ],
      "text/plain": [
       "                   Country  Fraction age 0-14 years  Fraction age 15-64 years  \\\n",
       "0                      USA                    0.189                     0.657   \n",
       "1                   Russia                    0.176                     0.682   \n",
       "2                    Spain                    0.147                     0.659   \n",
       "3                   Brazil                    0.217                     0.697   \n",
       "4                       UK                    0.177                     0.638   \n",
       "..                     ...                      ...                       ...   \n",
       "208              St. Barth                      NaN                       NaN   \n",
       "209         Western Sahara                      NaN                       NaN   \n",
       "210               Anguilla                      NaN                       NaN   \n",
       "211                Lesotho                    0.354                     0.601   \n",
       "212  Saint Pierre Miquelon                      NaN                       NaN   \n",
       "\n",
       "     Fraction age 65+ years  \n",
       "0                     0.154  \n",
       "1                     0.142  \n",
       "2                     0.194  \n",
       "3                     0.086  \n",
       "4                     0.185  \n",
       "..                      ...  \n",
       "208                     NaN  \n",
       "209                     NaN  \n",
       "210                     NaN  \n",
       "211                   0.045  \n",
       "212                     NaN  \n",
       "\n",
       "[213 rows x 4 columns]"
      ]
     },
     "execution_count": 3,
     "metadata": {},
     "output_type": "execute_result"
    }
   ],
   "source": [
    "df = pd.read_csv('population_structure_by_age_per_contry.csv')\n",
    "df"
   ]
  },
  {
   "cell_type": "code",
   "execution_count": 4,
   "metadata": {},
   "outputs": [
    {
     "data": {
      "text/html": [
       "<div>\n",
       "<style scoped>\n",
       "    .dataframe tbody tr th:only-of-type {\n",
       "        vertical-align: middle;\n",
       "    }\n",
       "\n",
       "    .dataframe tbody tr th {\n",
       "        vertical-align: top;\n",
       "    }\n",
       "\n",
       "    .dataframe thead th {\n",
       "        text-align: right;\n",
       "    }\n",
       "</style>\n",
       "<table border=\"1\" class=\"dataframe\">\n",
       "  <thead>\n",
       "    <tr style=\"text-align: right;\">\n",
       "      <th></th>\n",
       "      <th>Date</th>\n",
       "      <th>Country</th>\n",
       "      <th>Population</th>\n",
       "      <th>Total Tests</th>\n",
       "      <th>Total Cases</th>\n",
       "      <th>Total Deaths</th>\n",
       "      <th>Total Recovered</th>\n",
       "      <th>Serious or Critical</th>\n",
       "      <th>Active Cases</th>\n",
       "    </tr>\n",
       "  </thead>\n",
       "  <tbody>\n",
       "    <tr>\n",
       "      <th>0</th>\n",
       "      <td>2020-04-18</td>\n",
       "      <td>USA</td>\n",
       "      <td>330774664</td>\n",
       "      <td>3722145.0</td>\n",
       "      <td>738792.0</td>\n",
       "      <td>39014.0</td>\n",
       "      <td>68269.0</td>\n",
       "      <td>13551.0</td>\n",
       "      <td>631509.0</td>\n",
       "    </tr>\n",
       "    <tr>\n",
       "      <th>1</th>\n",
       "      <td>2020-04-18</td>\n",
       "      <td>Russia</td>\n",
       "      <td>145927292</td>\n",
       "      <td>1831892.0</td>\n",
       "      <td>36793.0</td>\n",
       "      <td>313.0</td>\n",
       "      <td>3057.0</td>\n",
       "      <td>8.0</td>\n",
       "      <td>33423.0</td>\n",
       "    </tr>\n",
       "    <tr>\n",
       "      <th>2</th>\n",
       "      <td>2020-04-18</td>\n",
       "      <td>Spain</td>\n",
       "      <td>46752703</td>\n",
       "      <td>930230.0</td>\n",
       "      <td>194416.0</td>\n",
       "      <td>20043.0</td>\n",
       "      <td>74797.0</td>\n",
       "      <td>7371.0</td>\n",
       "      <td>99576.0</td>\n",
       "    </tr>\n",
       "    <tr>\n",
       "      <th>3</th>\n",
       "      <td>2020-04-18</td>\n",
       "      <td>Brazil</td>\n",
       "      <td>212380932</td>\n",
       "      <td>62985.0</td>\n",
       "      <td>36722.0</td>\n",
       "      <td>2361.0</td>\n",
       "      <td>14026.0</td>\n",
       "      <td>6634.0</td>\n",
       "      <td>20335.0</td>\n",
       "    </tr>\n",
       "    <tr>\n",
       "      <th>4</th>\n",
       "      <td>2020-04-18</td>\n",
       "      <td>UK</td>\n",
       "      <td>67844241</td>\n",
       "      <td>460437.0</td>\n",
       "      <td>114217.0</td>\n",
       "      <td>15464.0</td>\n",
       "      <td>NaN</td>\n",
       "      <td>1559.0</td>\n",
       "      <td>98409.0</td>\n",
       "    </tr>\n",
       "    <tr>\n",
       "      <th>...</th>\n",
       "      <td>...</td>\n",
       "      <td>...</td>\n",
       "      <td>...</td>\n",
       "      <td>...</td>\n",
       "      <td>...</td>\n",
       "      <td>...</td>\n",
       "      <td>...</td>\n",
       "      <td>...</td>\n",
       "      <td>...</td>\n",
       "    </tr>\n",
       "    <tr>\n",
       "      <th>6598</th>\n",
       "      <td>2020-05-18</td>\n",
       "      <td>St. Barth</td>\n",
       "      <td>9874</td>\n",
       "      <td>NaN</td>\n",
       "      <td>6.0</td>\n",
       "      <td>NaN</td>\n",
       "      <td>6.0</td>\n",
       "      <td>NaN</td>\n",
       "      <td>0.0</td>\n",
       "    </tr>\n",
       "    <tr>\n",
       "      <th>6599</th>\n",
       "      <td>2020-05-18</td>\n",
       "      <td>Western Sahara</td>\n",
       "      <td>595462</td>\n",
       "      <td>NaN</td>\n",
       "      <td>6.0</td>\n",
       "      <td>NaN</td>\n",
       "      <td>6.0</td>\n",
       "      <td>NaN</td>\n",
       "      <td>0.0</td>\n",
       "    </tr>\n",
       "    <tr>\n",
       "      <th>6600</th>\n",
       "      <td>2020-05-18</td>\n",
       "      <td>Anguilla</td>\n",
       "      <td>14987</td>\n",
       "      <td>NaN</td>\n",
       "      <td>3.0</td>\n",
       "      <td>NaN</td>\n",
       "      <td>3.0</td>\n",
       "      <td>NaN</td>\n",
       "      <td>0.0</td>\n",
       "    </tr>\n",
       "    <tr>\n",
       "      <th>6601</th>\n",
       "      <td>2020-05-18</td>\n",
       "      <td>Lesotho</td>\n",
       "      <td>2140235</td>\n",
       "      <td>NaN</td>\n",
       "      <td>1.0</td>\n",
       "      <td>NaN</td>\n",
       "      <td>NaN</td>\n",
       "      <td>NaN</td>\n",
       "      <td>1.0</td>\n",
       "    </tr>\n",
       "    <tr>\n",
       "      <th>6602</th>\n",
       "      <td>2020-05-18</td>\n",
       "      <td>Saint Pierre Miquelon</td>\n",
       "      <td>5797</td>\n",
       "      <td>NaN</td>\n",
       "      <td>1.0</td>\n",
       "      <td>NaN</td>\n",
       "      <td>1.0</td>\n",
       "      <td>NaN</td>\n",
       "      <td>0.0</td>\n",
       "    </tr>\n",
       "  </tbody>\n",
       "</table>\n",
       "<p>6603 rows × 9 columns</p>\n",
       "</div>"
      ],
      "text/plain": [
       "            Date                Country  Population  Total Tests  Total Cases  \\\n",
       "0     2020-04-18                    USA   330774664    3722145.0     738792.0   \n",
       "1     2020-04-18                 Russia   145927292    1831892.0      36793.0   \n",
       "2     2020-04-18                  Spain    46752703     930230.0     194416.0   \n",
       "3     2020-04-18                 Brazil   212380932      62985.0      36722.0   \n",
       "4     2020-04-18                     UK    67844241     460437.0     114217.0   \n",
       "...          ...                    ...         ...          ...          ...   \n",
       "6598  2020-05-18              St. Barth        9874          NaN          6.0   \n",
       "6599  2020-05-18         Western Sahara      595462          NaN          6.0   \n",
       "6600  2020-05-18               Anguilla       14987          NaN          3.0   \n",
       "6601  2020-05-18                Lesotho     2140235          NaN          1.0   \n",
       "6602  2020-05-18  Saint Pierre Miquelon        5797          NaN          1.0   \n",
       "\n",
       "      Total Deaths  Total Recovered  Serious or Critical  Active Cases  \n",
       "0          39014.0          68269.0              13551.0      631509.0  \n",
       "1            313.0           3057.0                  8.0       33423.0  \n",
       "2          20043.0          74797.0               7371.0       99576.0  \n",
       "3           2361.0          14026.0               6634.0       20335.0  \n",
       "4          15464.0              NaN               1559.0       98409.0  \n",
       "...            ...              ...                  ...           ...  \n",
       "6598           NaN              6.0                  NaN           0.0  \n",
       "6599           NaN              6.0                  NaN           0.0  \n",
       "6600           NaN              3.0                  NaN           0.0  \n",
       "6601           NaN              NaN                  NaN           1.0  \n",
       "6602           NaN              1.0                  NaN           0.0  \n",
       "\n",
       "[6603 rows x 9 columns]"
      ]
     },
     "execution_count": 4,
     "metadata": {},
     "output_type": "execute_result"
    }
   ],
   "source": [
    "df1 = pd.read_csv('worldometer_snapshots_April18_to_May18.csv')\n",
    "df1"
   ]
  },
  {
   "cell_type": "code",
   "execution_count": 5,
   "metadata": {},
   "outputs": [],
   "source": [
    "# dropping insignificant columns\n",
    "df1.drop('Date',axis=1,inplace=True)"
   ]
  },
  {
   "cell_type": "code",
   "execution_count": 6,
   "metadata": {},
   "outputs": [],
   "source": [
    "from sklearn.preprocessing import LabelEncoder"
   ]
  },
  {
   "cell_type": "code",
   "execution_count": 10,
   "metadata": {},
   "outputs": [],
   "source": [
    "le = LabelEncoder()\n",
    "df['Country'] = le.fit_transform(df['Country'])\n",
    "df1['Country'] = le.fit_transform(df1['Country'])"
   ]
  },
  {
   "cell_type": "code",
   "execution_count": 21,
   "metadata": {},
   "outputs": [
    {
     "data": {
      "text/html": [
       "<div>\n",
       "<style scoped>\n",
       "    .dataframe tbody tr th:only-of-type {\n",
       "        vertical-align: middle;\n",
       "    }\n",
       "\n",
       "    .dataframe tbody tr th {\n",
       "        vertical-align: top;\n",
       "    }\n",
       "\n",
       "    .dataframe thead th {\n",
       "        text-align: right;\n",
       "    }\n",
       "</style>\n",
       "<table border=\"1\" class=\"dataframe\">\n",
       "  <thead>\n",
       "    <tr style=\"text-align: right;\">\n",
       "      <th></th>\n",
       "      <th>Country</th>\n",
       "      <th>Fraction age 0-14 years</th>\n",
       "      <th>Fraction age 15-64 years</th>\n",
       "      <th>Fraction age 65+ years</th>\n",
       "    </tr>\n",
       "  </thead>\n",
       "  <tbody>\n",
       "    <tr>\n",
       "      <th>0</th>\n",
       "      <td>201</td>\n",
       "      <td>0.189</td>\n",
       "      <td>0.657</td>\n",
       "      <td>0.154</td>\n",
       "    </tr>\n",
       "    <tr>\n",
       "      <th>1</th>\n",
       "      <td>158</td>\n",
       "      <td>0.176</td>\n",
       "      <td>0.682</td>\n",
       "      <td>0.142</td>\n",
       "    </tr>\n",
       "    <tr>\n",
       "      <th>2</th>\n",
       "      <td>180</td>\n",
       "      <td>0.147</td>\n",
       "      <td>0.659</td>\n",
       "      <td>0.194</td>\n",
       "    </tr>\n",
       "    <tr>\n",
       "      <th>3</th>\n",
       "      <td>26</td>\n",
       "      <td>0.217</td>\n",
       "      <td>0.697</td>\n",
       "      <td>0.086</td>\n",
       "    </tr>\n",
       "    <tr>\n",
       "      <th>4</th>\n",
       "      <td>200</td>\n",
       "      <td>0.177</td>\n",
       "      <td>0.638</td>\n",
       "      <td>0.185</td>\n",
       "    </tr>\n",
       "    <tr>\n",
       "      <th>...</th>\n",
       "      <td>...</td>\n",
       "      <td>...</td>\n",
       "      <td>...</td>\n",
       "      <td>...</td>\n",
       "    </tr>\n",
       "    <tr>\n",
       "      <th>208</th>\n",
       "      <td>182</td>\n",
       "      <td>NaN</td>\n",
       "      <td>NaN</td>\n",
       "      <td>NaN</td>\n",
       "    </tr>\n",
       "    <tr>\n",
       "      <th>209</th>\n",
       "      <td>209</td>\n",
       "      <td>NaN</td>\n",
       "      <td>NaN</td>\n",
       "      <td>NaN</td>\n",
       "    </tr>\n",
       "    <tr>\n",
       "      <th>210</th>\n",
       "      <td>5</td>\n",
       "      <td>NaN</td>\n",
       "      <td>NaN</td>\n",
       "      <td>NaN</td>\n",
       "    </tr>\n",
       "    <tr>\n",
       "      <th>211</th>\n",
       "      <td>110</td>\n",
       "      <td>0.354</td>\n",
       "      <td>0.601</td>\n",
       "      <td>0.045</td>\n",
       "    </tr>\n",
       "    <tr>\n",
       "      <th>212</th>\n",
       "      <td>165</td>\n",
       "      <td>NaN</td>\n",
       "      <td>NaN</td>\n",
       "      <td>NaN</td>\n",
       "    </tr>\n",
       "  </tbody>\n",
       "</table>\n",
       "<p>213 rows × 4 columns</p>\n",
       "</div>"
      ],
      "text/plain": [
       "     Country  Fraction age 0-14 years  Fraction age 15-64 years  \\\n",
       "0        201                    0.189                     0.657   \n",
       "1        158                    0.176                     0.682   \n",
       "2        180                    0.147                     0.659   \n",
       "3         26                    0.217                     0.697   \n",
       "4        200                    0.177                     0.638   \n",
       "..       ...                      ...                       ...   \n",
       "208      182                      NaN                       NaN   \n",
       "209      209                      NaN                       NaN   \n",
       "210        5                      NaN                       NaN   \n",
       "211      110                    0.354                     0.601   \n",
       "212      165                      NaN                       NaN   \n",
       "\n",
       "     Fraction age 65+ years  \n",
       "0                     0.154  \n",
       "1                     0.142  \n",
       "2                     0.194  \n",
       "3                     0.086  \n",
       "4                     0.185  \n",
       "..                      ...  \n",
       "208                     NaN  \n",
       "209                     NaN  \n",
       "210                     NaN  \n",
       "211                   0.045  \n",
       "212                     NaN  \n",
       "\n",
       "[213 rows x 4 columns]"
      ]
     },
     "execution_count": 21,
     "metadata": {},
     "output_type": "execute_result"
    }
   ],
   "source": [
    "df"
   ]
  },
  {
   "cell_type": "code",
   "execution_count": 22,
   "metadata": {},
   "outputs": [
    {
     "data": {
      "text/html": [
       "<div>\n",
       "<style scoped>\n",
       "    .dataframe tbody tr th:only-of-type {\n",
       "        vertical-align: middle;\n",
       "    }\n",
       "\n",
       "    .dataframe tbody tr th {\n",
       "        vertical-align: top;\n",
       "    }\n",
       "\n",
       "    .dataframe thead th {\n",
       "        text-align: right;\n",
       "    }\n",
       "</style>\n",
       "<table border=\"1\" class=\"dataframe\">\n",
       "  <thead>\n",
       "    <tr style=\"text-align: right;\">\n",
       "      <th></th>\n",
       "      <th>Country</th>\n",
       "      <th>Population</th>\n",
       "      <th>Total Tests</th>\n",
       "      <th>Total Cases</th>\n",
       "      <th>Total Deaths</th>\n",
       "      <th>Total Recovered</th>\n",
       "      <th>Serious or Critical</th>\n",
       "      <th>Active Cases</th>\n",
       "    </tr>\n",
       "  </thead>\n",
       "  <tbody>\n",
       "    <tr>\n",
       "      <th>0</th>\n",
       "      <td>201</td>\n",
       "      <td>330774664</td>\n",
       "      <td>3722145.0</td>\n",
       "      <td>738792.0</td>\n",
       "      <td>39014.0</td>\n",
       "      <td>68269.0</td>\n",
       "      <td>13551.0</td>\n",
       "      <td>631509.0</td>\n",
       "    </tr>\n",
       "    <tr>\n",
       "      <th>1</th>\n",
       "      <td>158</td>\n",
       "      <td>145927292</td>\n",
       "      <td>1831892.0</td>\n",
       "      <td>36793.0</td>\n",
       "      <td>313.0</td>\n",
       "      <td>3057.0</td>\n",
       "      <td>8.0</td>\n",
       "      <td>33423.0</td>\n",
       "    </tr>\n",
       "    <tr>\n",
       "      <th>2</th>\n",
       "      <td>180</td>\n",
       "      <td>46752703</td>\n",
       "      <td>930230.0</td>\n",
       "      <td>194416.0</td>\n",
       "      <td>20043.0</td>\n",
       "      <td>74797.0</td>\n",
       "      <td>7371.0</td>\n",
       "      <td>99576.0</td>\n",
       "    </tr>\n",
       "    <tr>\n",
       "      <th>3</th>\n",
       "      <td>26</td>\n",
       "      <td>212380932</td>\n",
       "      <td>62985.0</td>\n",
       "      <td>36722.0</td>\n",
       "      <td>2361.0</td>\n",
       "      <td>14026.0</td>\n",
       "      <td>6634.0</td>\n",
       "      <td>20335.0</td>\n",
       "    </tr>\n",
       "    <tr>\n",
       "      <th>4</th>\n",
       "      <td>200</td>\n",
       "      <td>67844241</td>\n",
       "      <td>460437.0</td>\n",
       "      <td>114217.0</td>\n",
       "      <td>15464.0</td>\n",
       "      <td>NaN</td>\n",
       "      <td>1559.0</td>\n",
       "      <td>98409.0</td>\n",
       "    </tr>\n",
       "    <tr>\n",
       "      <th>...</th>\n",
       "      <td>...</td>\n",
       "      <td>...</td>\n",
       "      <td>...</td>\n",
       "      <td>...</td>\n",
       "      <td>...</td>\n",
       "      <td>...</td>\n",
       "      <td>...</td>\n",
       "      <td>...</td>\n",
       "    </tr>\n",
       "    <tr>\n",
       "      <th>6598</th>\n",
       "      <td>182</td>\n",
       "      <td>9874</td>\n",
       "      <td>NaN</td>\n",
       "      <td>6.0</td>\n",
       "      <td>NaN</td>\n",
       "      <td>6.0</td>\n",
       "      <td>NaN</td>\n",
       "      <td>0.0</td>\n",
       "    </tr>\n",
       "    <tr>\n",
       "      <th>6599</th>\n",
       "      <td>209</td>\n",
       "      <td>595462</td>\n",
       "      <td>NaN</td>\n",
       "      <td>6.0</td>\n",
       "      <td>NaN</td>\n",
       "      <td>6.0</td>\n",
       "      <td>NaN</td>\n",
       "      <td>0.0</td>\n",
       "    </tr>\n",
       "    <tr>\n",
       "      <th>6600</th>\n",
       "      <td>5</td>\n",
       "      <td>14987</td>\n",
       "      <td>NaN</td>\n",
       "      <td>3.0</td>\n",
       "      <td>NaN</td>\n",
       "      <td>3.0</td>\n",
       "      <td>NaN</td>\n",
       "      <td>0.0</td>\n",
       "    </tr>\n",
       "    <tr>\n",
       "      <th>6601</th>\n",
       "      <td>110</td>\n",
       "      <td>2140235</td>\n",
       "      <td>NaN</td>\n",
       "      <td>1.0</td>\n",
       "      <td>NaN</td>\n",
       "      <td>NaN</td>\n",
       "      <td>NaN</td>\n",
       "      <td>1.0</td>\n",
       "    </tr>\n",
       "    <tr>\n",
       "      <th>6602</th>\n",
       "      <td>165</td>\n",
       "      <td>5797</td>\n",
       "      <td>NaN</td>\n",
       "      <td>1.0</td>\n",
       "      <td>NaN</td>\n",
       "      <td>1.0</td>\n",
       "      <td>NaN</td>\n",
       "      <td>0.0</td>\n",
       "    </tr>\n",
       "  </tbody>\n",
       "</table>\n",
       "<p>6603 rows × 8 columns</p>\n",
       "</div>"
      ],
      "text/plain": [
       "      Country  Population  Total Tests  Total Cases  Total Deaths  \\\n",
       "0         201   330774664    3722145.0     738792.0       39014.0   \n",
       "1         158   145927292    1831892.0      36793.0         313.0   \n",
       "2         180    46752703     930230.0     194416.0       20043.0   \n",
       "3          26   212380932      62985.0      36722.0        2361.0   \n",
       "4         200    67844241     460437.0     114217.0       15464.0   \n",
       "...       ...         ...          ...          ...           ...   \n",
       "6598      182        9874          NaN          6.0           NaN   \n",
       "6599      209      595462          NaN          6.0           NaN   \n",
       "6600        5       14987          NaN          3.0           NaN   \n",
       "6601      110     2140235          NaN          1.0           NaN   \n",
       "6602      165        5797          NaN          1.0           NaN   \n",
       "\n",
       "      Total Recovered  Serious or Critical  Active Cases  \n",
       "0             68269.0              13551.0      631509.0  \n",
       "1              3057.0                  8.0       33423.0  \n",
       "2             74797.0               7371.0       99576.0  \n",
       "3             14026.0               6634.0       20335.0  \n",
       "4                 NaN               1559.0       98409.0  \n",
       "...               ...                  ...           ...  \n",
       "6598              6.0                  NaN           0.0  \n",
       "6599              6.0                  NaN           0.0  \n",
       "6600              3.0                  NaN           0.0  \n",
       "6601              NaN                  NaN           1.0  \n",
       "6602              1.0                  NaN           0.0  \n",
       "\n",
       "[6603 rows x 8 columns]"
      ]
     },
     "execution_count": 22,
     "metadata": {},
     "output_type": "execute_result"
    }
   ],
   "source": [
    "df1"
   ]
  },
  {
   "cell_type": "code",
   "execution_count": 11,
   "metadata": {},
   "outputs": [
    {
     "name": "stdout",
     "output_type": "stream",
     "text": [
      "<class 'pandas.core.frame.DataFrame'>\n",
      "RangeIndex: 213 entries, 0 to 212\n",
      "Data columns (total 4 columns):\n",
      " #   Column                    Non-Null Count  Dtype  \n",
      "---  ------                    --------------  -----  \n",
      " 0   Country                   213 non-null    int64  \n",
      " 1   Fraction age 0-14 years   176 non-null    float64\n",
      " 2   Fraction age 15-64 years  176 non-null    float64\n",
      " 3   Fraction age 65+ years    176 non-null    float64\n",
      "dtypes: float64(3), int64(1)\n",
      "memory usage: 6.8 KB\n"
     ]
    }
   ],
   "source": [
    "df.info()"
   ]
  },
  {
   "cell_type": "code",
   "execution_count": 12,
   "metadata": {},
   "outputs": [
    {
     "name": "stdout",
     "output_type": "stream",
     "text": [
      "<class 'pandas.core.frame.DataFrame'>\n",
      "RangeIndex: 6603 entries, 0 to 6602\n",
      "Data columns (total 8 columns):\n",
      " #   Column               Non-Null Count  Dtype  \n",
      "---  ------               --------------  -----  \n",
      " 0   Country              6603 non-null   int32  \n",
      " 1   Population           6603 non-null   int64  \n",
      " 2   Total Tests          5505 non-null   float64\n",
      " 3   Total Cases          6554 non-null   float64\n",
      " 4   Total Deaths         5367 non-null   float64\n",
      " 5   Total Recovered      6318 non-null   float64\n",
      " 6   Serious or Critical  4117 non-null   float64\n",
      " 7   Active Cases         6544 non-null   float64\n",
      "dtypes: float64(6), int32(1), int64(1)\n",
      "memory usage: 387.0 KB\n"
     ]
    }
   ],
   "source": [
    "df1.info()"
   ]
  },
  {
   "cell_type": "code",
   "execution_count": 24,
   "metadata": {},
   "outputs": [
    {
     "data": {
      "text/plain": [
       "<matplotlib.axes._subplots.AxesSubplot at 0x37fcc36508>"
      ]
     },
     "execution_count": 24,
     "metadata": {},
     "output_type": "execute_result"
    },
    {
     "data": {
      "image/png": "[encoded data removed]",
      "text/plain": [
       "<Figure size 432x288 with 2 Axes>"
      ]
     },
     "metadata": {
      "needs_background": "light"
     },
     "output_type": "display_data"
    }
   ],
   "source": [
    "# some null values are present\n",
    "sns.heatmap(df.isna())"
   ]
  },
  {
   "cell_type": "code",
   "execution_count": 25,
   "metadata": {},
   "outputs": [
    {
     "data": {
      "text/plain": [
       "<matplotlib.axes._subplots.AxesSubplot at 0x37fcc42688>"
      ]
     },
     "execution_count": 25,
     "metadata": {},
     "output_type": "execute_result"
    },
    {
     "data": {
      "image/png": "[encoded data removed]",
      "text/plain": [
       "<Figure size 432x288 with 2 Axes>"
      ]
     },
     "metadata": {
      "needs_background": "light"
     },
     "output_type": "display_data"
    }
   ],
   "source": [
    "# some null values are present\n",
    "sns.heatmap(df1.isna())"
   ]
  },
  {
   "cell_type": "code",
   "execution_count": 30,
   "metadata": {},
   "outputs": [
    {
     "data": {
      "text/html": [
       "<div>\n",
       "<style scoped>\n",
       "    .dataframe tbody tr th:only-of-type {\n",
       "        vertical-align: middle;\n",
       "    }\n",
       "\n",
       "    .dataframe tbody tr th {\n",
       "        vertical-align: top;\n",
       "    }\n",
       "\n",
       "    .dataframe thead th {\n",
       "        text-align: right;\n",
       "    }\n",
       "</style>\n",
       "<table border=\"1\" class=\"dataframe\">\n",
       "  <thead>\n",
       "    <tr style=\"text-align: right;\">\n",
       "      <th></th>\n",
       "      <th>Population</th>\n",
       "      <th>Total Tests</th>\n",
       "      <th>Total Cases</th>\n",
       "      <th>Total Deaths</th>\n",
       "      <th>Total Recovered</th>\n",
       "      <th>Serious or Critical</th>\n",
       "      <th>Active Cases</th>\n",
       "    </tr>\n",
       "    <tr>\n",
       "      <th>Country</th>\n",
       "      <th></th>\n",
       "      <th></th>\n",
       "      <th></th>\n",
       "      <th></th>\n",
       "      <th></th>\n",
       "      <th></th>\n",
       "      <th></th>\n",
       "    </tr>\n",
       "  </thead>\n",
       "  <tbody>\n",
       "    <tr>\n",
       "      <th>0</th>\n",
       "      <td>1203337819</td>\n",
       "      <td>382382.0</td>\n",
       "      <td>97988.0</td>\n",
       "      <td>2740.0</td>\n",
       "      <td>12268.0</td>\n",
       "      <td>246.0</td>\n",
       "      <td>83202.0</td>\n",
       "    </tr>\n",
       "    <tr>\n",
       "      <th>1</th>\n",
       "      <td>89222805</td>\n",
       "      <td>273700.0</td>\n",
       "      <td>24227.0</td>\n",
       "      <td>915.0</td>\n",
       "      <td>16353.0</td>\n",
       "      <td>142.0</td>\n",
       "      <td>6983.0</td>\n",
       "    </tr>\n",
       "    <tr>\n",
       "      <th>2</th>\n",
       "      <td>1356335963</td>\n",
       "      <td>198359.0</td>\n",
       "      <td>142955.0</td>\n",
       "      <td>14356.0</td>\n",
       "      <td>65672.0</td>\n",
       "      <td>882.0</td>\n",
       "      <td>63102.0</td>\n",
       "    </tr>\n",
       "    <tr>\n",
       "      <th>3</th>\n",
       "      <td>2394781</td>\n",
       "      <td>58094.0</td>\n",
       "      <td>23061.0</td>\n",
       "      <td>1359.0</td>\n",
       "      <td>14214.0</td>\n",
       "      <td>410.0</td>\n",
       "      <td>7488.0</td>\n",
       "    </tr>\n",
       "    <tr>\n",
       "      <th>4</th>\n",
       "      <td>1014685273</td>\n",
       "      <td>62123.0</td>\n",
       "      <td>1079.0</td>\n",
       "      <td>63.0</td>\n",
       "      <td>316.0</td>\n",
       "      <td>0.0</td>\n",
       "      <td>700.0</td>\n",
       "    </tr>\n",
       "    <tr>\n",
       "      <th>...</th>\n",
       "      <td>...</td>\n",
       "      <td>...</td>\n",
       "      <td>...</td>\n",
       "      <td>...</td>\n",
       "      <td>...</td>\n",
       "      <td>...</td>\n",
       "      <td>...</td>\n",
       "    </tr>\n",
       "    <tr>\n",
       "      <th>208</th>\n",
       "      <td>3014261192</td>\n",
       "      <td>7544936.0</td>\n",
       "      <td>8726.0</td>\n",
       "      <td>0.0</td>\n",
       "      <td>7193.0</td>\n",
       "      <td>200.0</td>\n",
       "      <td>1534.0</td>\n",
       "    </tr>\n",
       "    <tr>\n",
       "      <th>209</th>\n",
       "      <td>18459322</td>\n",
       "      <td>0.0</td>\n",
       "      <td>186.0</td>\n",
       "      <td>0.0</td>\n",
       "      <td>138.0</td>\n",
       "      <td>0.0</td>\n",
       "      <td>48.0</td>\n",
       "    </tr>\n",
       "    <tr>\n",
       "      <th>210</th>\n",
       "      <td>922032411</td>\n",
       "      <td>3000.0</td>\n",
       "      <td>1015.0</td>\n",
       "      <td>162.0</td>\n",
       "      <td>25.0</td>\n",
       "      <td>0.0</td>\n",
       "      <td>828.0</td>\n",
       "    </tr>\n",
       "    <tr>\n",
       "      <th>211</th>\n",
       "      <td>567831836</td>\n",
       "      <td>242695.0</td>\n",
       "      <td>7316.0</td>\n",
       "      <td>135.0</td>\n",
       "      <td>2630.0</td>\n",
       "      <td>31.0</td>\n",
       "      <td>4552.0</td>\n",
       "    </tr>\n",
       "    <tr>\n",
       "      <th>212</th>\n",
       "      <td>459931221</td>\n",
       "      <td>384579.0</td>\n",
       "      <td>1048.0</td>\n",
       "      <td>120.0</td>\n",
       "      <td>204.0</td>\n",
       "      <td>0.0</td>\n",
       "      <td>724.0</td>\n",
       "    </tr>\n",
       "  </tbody>\n",
       "</table>\n",
       "<p>213 rows × 7 columns</p>\n",
       "</div>"
      ],
      "text/plain": [
       "         Population  Total Tests  Total Cases  Total Deaths  Total Recovered  \\\n",
       "Country                                                                        \n",
       "0        1203337819     382382.0      97988.0        2740.0          12268.0   \n",
       "1          89222805     273700.0      24227.0         915.0          16353.0   \n",
       "2        1356335963     198359.0     142955.0       14356.0          65672.0   \n",
       "3           2394781      58094.0      23061.0        1359.0          14214.0   \n",
       "4        1014685273      62123.0       1079.0          63.0            316.0   \n",
       "...             ...          ...          ...           ...              ...   \n",
       "208      3014261192    7544936.0       8726.0           0.0           7193.0   \n",
       "209        18459322          0.0        186.0           0.0            138.0   \n",
       "210       922032411       3000.0       1015.0         162.0             25.0   \n",
       "211       567831836     242695.0       7316.0         135.0           2630.0   \n",
       "212       459931221     384579.0       1048.0         120.0            204.0   \n",
       "\n",
       "         Serious or Critical  Active Cases  \n",
       "Country                                     \n",
       "0                      246.0       83202.0  \n",
       "1                      142.0        6983.0  \n",
       "2                      882.0       63102.0  \n",
       "3                      410.0        7488.0  \n",
       "4                        0.0         700.0  \n",
       "...                      ...           ...  \n",
       "208                    200.0        1534.0  \n",
       "209                      0.0          48.0  \n",
       "210                      0.0         828.0  \n",
       "211                     31.0        4552.0  \n",
       "212                      0.0         724.0  \n",
       "\n",
       "[213 rows x 7 columns]"
      ]
     },
     "execution_count": 30,
     "metadata": {},
     "output_type": "execute_result"
    }
   ],
   "source": [
    "# creating the dataset by grouping the countries\n",
    "df2 = df1.groupby(df1['Country']).sum()\n",
    "df2"
   ]
  },
  {
   "cell_type": "code",
   "execution_count": 32,
   "metadata": {},
   "outputs": [
    {
     "data": {
      "text/plain": [
       "<matplotlib.axes._subplots.AxesSubplot at 0x37fce959c8>"
      ]
     },
     "execution_count": 32,
     "metadata": {},
     "output_type": "execute_result"
    },
    {
     "data": {
      "image/png": "[encoded data removed]",
      "text/plain": [
       "<Figure size 432x288 with 2 Axes>"
      ]
     },
     "metadata": {
      "needs_background": "light"
     },
     "output_type": "display_data"
    }
   ],
   "source": [
    "sns.heatmap(df2.isna())"
   ]
  },
  {
   "cell_type": "code",
   "execution_count": 50,
   "metadata": {},
   "outputs": [
    {
     "data": {
      "text/html": [
       "<div>\n",
       "<style scoped>\n",
       "    .dataframe tbody tr th:only-of-type {\n",
       "        vertical-align: middle;\n",
       "    }\n",
       "\n",
       "    .dataframe tbody tr th {\n",
       "        vertical-align: top;\n",
       "    }\n",
       "\n",
       "    .dataframe thead th {\n",
       "        text-align: right;\n",
       "    }\n",
       "</style>\n",
       "<table border=\"1\" class=\"dataframe\">\n",
       "  <thead>\n",
       "    <tr style=\"text-align: right;\">\n",
       "      <th></th>\n",
       "      <th>Population</th>\n",
       "      <th>Total Tests</th>\n",
       "      <th>Total Cases</th>\n",
       "      <th>Total Deaths</th>\n",
       "      <th>Total Recovered</th>\n",
       "      <th>Serious or Critical</th>\n",
       "      <th>Active Cases</th>\n",
       "    </tr>\n",
       "    <tr>\n",
       "      <th>Country</th>\n",
       "      <th></th>\n",
       "      <th></th>\n",
       "      <th></th>\n",
       "      <th></th>\n",
       "      <th></th>\n",
       "      <th></th>\n",
       "      <th></th>\n",
       "    </tr>\n",
       "  </thead>\n",
       "  <tbody>\n",
       "    <tr>\n",
       "      <th>0</th>\n",
       "      <td>1203337819</td>\n",
       "      <td>382382.0</td>\n",
       "      <td>97988.0</td>\n",
       "      <td>2740.0</td>\n",
       "      <td>12268.0</td>\n",
       "      <td>246.0</td>\n",
       "      <td>83202.0</td>\n",
       "    </tr>\n",
       "    <tr>\n",
       "      <th>1</th>\n",
       "      <td>89222805</td>\n",
       "      <td>273700.0</td>\n",
       "      <td>24227.0</td>\n",
       "      <td>915.0</td>\n",
       "      <td>16353.0</td>\n",
       "      <td>142.0</td>\n",
       "      <td>6983.0</td>\n",
       "    </tr>\n",
       "    <tr>\n",
       "      <th>2</th>\n",
       "      <td>1356335963</td>\n",
       "      <td>198359.0</td>\n",
       "      <td>142955.0</td>\n",
       "      <td>14356.0</td>\n",
       "      <td>65672.0</td>\n",
       "      <td>882.0</td>\n",
       "      <td>63102.0</td>\n",
       "    </tr>\n",
       "    <tr>\n",
       "      <th>3</th>\n",
       "      <td>2394781</td>\n",
       "      <td>58094.0</td>\n",
       "      <td>23061.0</td>\n",
       "      <td>1359.0</td>\n",
       "      <td>14214.0</td>\n",
       "      <td>410.0</td>\n",
       "      <td>7488.0</td>\n",
       "    </tr>\n",
       "    <tr>\n",
       "      <th>4</th>\n",
       "      <td>1014685273</td>\n",
       "      <td>62123.0</td>\n",
       "      <td>1079.0</td>\n",
       "      <td>63.0</td>\n",
       "      <td>316.0</td>\n",
       "      <td>0.0</td>\n",
       "      <td>700.0</td>\n",
       "    </tr>\n",
       "    <tr>\n",
       "      <th>...</th>\n",
       "      <td>...</td>\n",
       "      <td>...</td>\n",
       "      <td>...</td>\n",
       "      <td>...</td>\n",
       "      <td>...</td>\n",
       "      <td>...</td>\n",
       "      <td>...</td>\n",
       "    </tr>\n",
       "    <tr>\n",
       "      <th>208</th>\n",
       "      <td>3014261192</td>\n",
       "      <td>7544936.0</td>\n",
       "      <td>8726.0</td>\n",
       "      <td>0.0</td>\n",
       "      <td>7193.0</td>\n",
       "      <td>200.0</td>\n",
       "      <td>1534.0</td>\n",
       "    </tr>\n",
       "    <tr>\n",
       "      <th>209</th>\n",
       "      <td>18459322</td>\n",
       "      <td>0.0</td>\n",
       "      <td>186.0</td>\n",
       "      <td>0.0</td>\n",
       "      <td>138.0</td>\n",
       "      <td>0.0</td>\n",
       "      <td>48.0</td>\n",
       "    </tr>\n",
       "    <tr>\n",
       "      <th>210</th>\n",
       "      <td>922032411</td>\n",
       "      <td>3000.0</td>\n",
       "      <td>1015.0</td>\n",
       "      <td>162.0</td>\n",
       "      <td>25.0</td>\n",
       "      <td>0.0</td>\n",
       "      <td>828.0</td>\n",
       "    </tr>\n",
       "    <tr>\n",
       "      <th>211</th>\n",
       "      <td>567831836</td>\n",
       "      <td>242695.0</td>\n",
       "      <td>7316.0</td>\n",
       "      <td>135.0</td>\n",
       "      <td>2630.0</td>\n",
       "      <td>31.0</td>\n",
       "      <td>4552.0</td>\n",
       "    </tr>\n",
       "    <tr>\n",
       "      <th>212</th>\n",
       "      <td>459931221</td>\n",
       "      <td>384579.0</td>\n",
       "      <td>1048.0</td>\n",
       "      <td>120.0</td>\n",
       "      <td>204.0</td>\n",
       "      <td>0.0</td>\n",
       "      <td>724.0</td>\n",
       "    </tr>\n",
       "  </tbody>\n",
       "</table>\n",
       "<p>213 rows × 7 columns</p>\n",
       "</div>"
      ],
      "text/plain": [
       "         Population  Total Tests  Total Cases  Total Deaths  Total Recovered  \\\n",
       "Country                                                                        \n",
       "0        1203337819     382382.0      97988.0        2740.0          12268.0   \n",
       "1          89222805     273700.0      24227.0         915.0          16353.0   \n",
       "2        1356335963     198359.0     142955.0       14356.0          65672.0   \n",
       "3           2394781      58094.0      23061.0        1359.0          14214.0   \n",
       "4        1014685273      62123.0       1079.0          63.0            316.0   \n",
       "...             ...          ...          ...           ...              ...   \n",
       "208      3014261192    7544936.0       8726.0           0.0           7193.0   \n",
       "209        18459322          0.0        186.0           0.0            138.0   \n",
       "210       922032411       3000.0       1015.0         162.0             25.0   \n",
       "211       567831836     242695.0       7316.0         135.0           2630.0   \n",
       "212       459931221     384579.0       1048.0         120.0            204.0   \n",
       "\n",
       "         Serious or Critical  Active Cases  \n",
       "Country                                     \n",
       "0                      246.0       83202.0  \n",
       "1                      142.0        6983.0  \n",
       "2                      882.0       63102.0  \n",
       "3                      410.0        7488.0  \n",
       "4                        0.0         700.0  \n",
       "...                      ...           ...  \n",
       "208                    200.0        1534.0  \n",
       "209                      0.0          48.0  \n",
       "210                      0.0         828.0  \n",
       "211                     31.0        4552.0  \n",
       "212                      0.0         724.0  \n",
       "\n",
       "[213 rows x 7 columns]"
      ]
     },
     "execution_count": 50,
     "metadata": {},
     "output_type": "execute_result"
    }
   ],
   "source": [
    "df2"
   ]
  },
  {
   "cell_type": "code",
   "execution_count": 33,
   "metadata": {},
   "outputs": [
    {
     "name": "stdout",
     "output_type": "stream",
     "text": [
      "<class 'pandas.core.frame.DataFrame'>\n",
      "Int64Index: 213 entries, 0 to 212\n",
      "Data columns (total 7 columns):\n",
      " #   Column               Non-Null Count  Dtype  \n",
      "---  ------               --------------  -----  \n",
      " 0   Population           213 non-null    int64  \n",
      " 1   Total Tests          213 non-null    float64\n",
      " 2   Total Cases          213 non-null    float64\n",
      " 3   Total Deaths         213 non-null    float64\n",
      " 4   Total Recovered      213 non-null    float64\n",
      " 5   Serious or Critical  213 non-null    float64\n",
      " 6   Active Cases         213 non-null    float64\n",
      "dtypes: float64(6), int64(1)\n",
      "memory usage: 13.3 KB\n"
     ]
    }
   ],
   "source": [
    "df2.info()"
   ]
  },
  {
   "cell_type": "code",
   "execution_count": 34,
   "metadata": {},
   "outputs": [
    {
     "data": {
      "text/html": [
       "<div>\n",
       "<style scoped>\n",
       "    .dataframe tbody tr th:only-of-type {\n",
       "        vertical-align: middle;\n",
       "    }\n",
       "\n",
       "    .dataframe tbody tr th {\n",
       "        vertical-align: top;\n",
       "    }\n",
       "\n",
       "    .dataframe thead th {\n",
       "        text-align: right;\n",
       "    }\n",
       "</style>\n",
       "<table border=\"1\" class=\"dataframe\">\n",
       "  <thead>\n",
       "    <tr style=\"text-align: right;\">\n",
       "      <th></th>\n",
       "      <th>Population</th>\n",
       "      <th>Total Tests</th>\n",
       "      <th>Total Cases</th>\n",
       "      <th>Total Deaths</th>\n",
       "      <th>Total Recovered</th>\n",
       "      <th>Serious or Critical</th>\n",
       "      <th>Active Cases</th>\n",
       "    </tr>\n",
       "  </thead>\n",
       "  <tbody>\n",
       "    <tr>\n",
       "      <th>count</th>\n",
       "      <td>2.130000e+02</td>\n",
       "      <td>2.130000e+02</td>\n",
       "      <td>2.130000e+02</td>\n",
       "      <td>2.130000e+02</td>\n",
       "      <td>2.130000e+02</td>\n",
       "      <td>213.000000</td>\n",
       "      <td>2.130000e+02</td>\n",
       "    </tr>\n",
       "    <tr>\n",
       "      <th>mean</th>\n",
       "      <td>1.127753e+09</td>\n",
       "      <td>5.601277e+06</td>\n",
       "      <td>5.209254e+05</td>\n",
       "      <td>3.568556e+04</td>\n",
       "      <td>1.736834e+05</td>\n",
       "      <td>7475.319249</td>\n",
       "      <td>3.061284e+05</td>\n",
       "    </tr>\n",
       "    <tr>\n",
       "      <th>std</th>\n",
       "      <td>4.385740e+09</td>\n",
       "      <td>2.042471e+07</td>\n",
       "      <td>2.679397e+06</td>\n",
       "      <td>1.826554e+05</td>\n",
       "      <td>6.691042e+05</td>\n",
       "      <td>40390.764744</td>\n",
       "      <td>1.988770e+06</td>\n",
       "    </tr>\n",
       "    <tr>\n",
       "      <th>min</th>\n",
       "      <td>2.483100e+04</td>\n",
       "      <td>0.000000e+00</td>\n",
       "      <td>6.000000e+00</td>\n",
       "      <td>0.000000e+00</td>\n",
       "      <td>0.000000e+00</td>\n",
       "      <td>0.000000</td>\n",
       "      <td>0.000000e+00</td>\n",
       "    </tr>\n",
       "    <tr>\n",
       "      <th>25%</th>\n",
       "      <td>2.688531e+07</td>\n",
       "      <td>2.942200e+04</td>\n",
       "      <td>2.750000e+03</td>\n",
       "      <td>4.900000e+01</td>\n",
       "      <td>7.010000e+02</td>\n",
       "      <td>0.000000</td>\n",
       "      <td>9.120000e+02</td>\n",
       "    </tr>\n",
       "    <tr>\n",
       "      <th>50%</th>\n",
       "      <td>2.126577e+08</td>\n",
       "      <td>3.424160e+05</td>\n",
       "      <td>1.917000e+04</td>\n",
       "      <td>3.730000e+02</td>\n",
       "      <td>6.818000e+03</td>\n",
       "      <td>87.000000</td>\n",
       "      <td>9.501000e+03</td>\n",
       "    </tr>\n",
       "    <tr>\n",
       "      <th>75%</th>\n",
       "      <td>7.893907e+08</td>\n",
       "      <td>3.290541e+06</td>\n",
       "      <td>1.537910e+05</td>\n",
       "      <td>3.176000e+03</td>\n",
       "      <td>4.769900e+04</td>\n",
       "      <td>882.000000</td>\n",
       "      <td>6.361200e+04</td>\n",
       "    </tr>\n",
       "    <tr>\n",
       "      <th>max</th>\n",
       "      <td>4.461904e+10</td>\n",
       "      <td>2.320005e+08</td>\n",
       "      <td>3.619650e+07</td>\n",
       "      <td>2.102393e+06</td>\n",
       "      <td>6.004896e+06</td>\n",
       "      <td>488102.000000</td>\n",
       "      <td>2.811541e+07</td>\n",
       "    </tr>\n",
       "  </tbody>\n",
       "</table>\n",
       "</div>"
      ],
      "text/plain": [
       "         Population   Total Tests   Total Cases  Total Deaths  \\\n",
       "count  2.130000e+02  2.130000e+02  2.130000e+02  2.130000e+02   \n",
       "mean   1.127753e+09  5.601277e+06  5.209254e+05  3.568556e+04   \n",
       "std    4.385740e+09  2.042471e+07  2.679397e+06  1.826554e+05   \n",
       "min    2.483100e+04  0.000000e+00  6.000000e+00  0.000000e+00   \n",
       "25%    2.688531e+07  2.942200e+04  2.750000e+03  4.900000e+01   \n",
       "50%    2.126577e+08  3.424160e+05  1.917000e+04  3.730000e+02   \n",
       "75%    7.893907e+08  3.290541e+06  1.537910e+05  3.176000e+03   \n",
       "max    4.461904e+10  2.320005e+08  3.619650e+07  2.102393e+06   \n",
       "\n",
       "       Total Recovered  Serious or Critical  Active Cases  \n",
       "count     2.130000e+02           213.000000  2.130000e+02  \n",
       "mean      1.736834e+05          7475.319249  3.061284e+05  \n",
       "std       6.691042e+05         40390.764744  1.988770e+06  \n",
       "min       0.000000e+00             0.000000  0.000000e+00  \n",
       "25%       7.010000e+02             0.000000  9.120000e+02  \n",
       "50%       6.818000e+03            87.000000  9.501000e+03  \n",
       "75%       4.769900e+04           882.000000  6.361200e+04  \n",
       "max       6.004896e+06        488102.000000  2.811541e+07  "
      ]
     },
     "execution_count": 34,
     "metadata": {},
     "output_type": "execute_result"
    }
   ],
   "source": [
    "df2.describe()"
   ]
  },
  {
   "cell_type": "code",
   "execution_count": 36,
   "metadata": {},
   "outputs": [
    {
     "data": {
      "text/plain": [
       "<seaborn.axisgrid.PairGrid at 0x37ffe72ac8>"
      ]
     },
     "execution_count": 36,
     "metadata": {},
     "output_type": "execute_result"
    },
    {
     "data": {
      "image/png": "[encoded data removed]",
      "text/plain": [
       "<Figure size 1260x1260 with 56 Axes>"
      ]
     },
     "metadata": {
      "needs_background": "light"
     },
     "output_type": "display_data"
    }
   ],
   "source": [
    "sns.pairplot(df2)"
   ]
  },
  {
   "cell_type": "code",
   "execution_count": 124,
   "metadata": {},
   "outputs": [
    {
     "data": {
      "text/plain": [
       "<matplotlib.axes._subplots.AxesSubplot at 0x3789613988>"
      ]
     },
     "execution_count": 124,
     "metadata": {},
     "output_type": "execute_result"
    },
    {
     "data": {
      "image/png": "[encoded data removed]",
      "text/plain": [
       "<Figure size 432x288 with 1 Axes>"
      ]
     },
     "metadata": {
      "needs_background": "light"
     },
     "output_type": "display_data"
    }
   ],
   "source": [
    "sns.barplot(df5['Population'],df5['Total Deaths'])"
   ]
  },
  {
   "cell_type": "code",
   "execution_count": 127,
   "metadata": {},
   "outputs": [
    {
     "data": {
      "text/plain": [
       "<matplotlib.axes._subplots.AxesSubplot at 0x37899fd188>"
      ]
     },
     "execution_count": 127,
     "metadata": {},
     "output_type": "execute_result"
    },
    {
     "data": {
      "image/png": "[encoded data removed]",
      "text/plain": [
       "<Figure size 432x288 with 1 Axes>"
      ]
     },
     "metadata": {
      "needs_background": "light"
     },
     "output_type": "display_data"
    }
   ],
   "source": [
    "# we can see that as the cases are increasing the deaths are also increasing\n",
    "sns.lineplot(df5['Total Cases'],df5['Total Deaths'])"
   ]
  },
  {
   "cell_type": "code",
   "execution_count": 128,
   "metadata": {},
   "outputs": [
    {
     "data": {
      "text/plain": [
       "<matplotlib.axes._subplots.AxesSubplot at 0x3796034688>"
      ]
     },
     "execution_count": 128,
     "metadata": {},
     "output_type": "execute_result"
    },
    {
     "data": {
      "image/png": "[encoded data removed]",
      "text/plain": [
       "<Figure size 432x288 with 1 Axes>"
      ]
     },
     "metadata": {
      "needs_background": "light"
     },
     "output_type": "display_data"
    }
   ],
   "source": [
    "# the number of recovered people are also increasing as the cases are increasing\n",
    "sns.lineplot(df5['Total Cases'],df5['Total Recovered'])"
   ]
  },
  {
   "cell_type": "code",
   "execution_count": 37,
   "metadata": {},
   "outputs": [
    {
     "data": {
      "text/plain": [
       "<matplotlib.axes._subplots.AxesSubplot at 0x378399c208>"
      ]
     },
     "execution_count": 37,
     "metadata": {},
     "output_type": "execute_result"
    },
    {
     "data": {
      "image/png": "[encoded data removed]",
      "text/plain": [
       "<Figure size 432x288 with 2 Axes>"
      ]
     },
     "metadata": {
      "needs_background": "light"
     },
     "output_type": "display_data"
    }
   ],
   "source": [
    "# we can see that population is highly non correlated\n",
    "sns.heatmap(df2.corr())"
   ]
  },
  {
   "cell_type": "code",
   "execution_count": 38,
   "metadata": {},
   "outputs": [
    {
     "data": {
      "text/plain": [
       "Population                AxesSubplot(0.125,0.808774;0.227941x0.0712264)\n",
       "Total Tests            AxesSubplot(0.398529,0.808774;0.227941x0.0712264)\n",
       "Total Cases            AxesSubplot(0.672059,0.808774;0.227941x0.0712264)\n",
       "Total Deaths              AxesSubplot(0.125,0.723302;0.227941x0.0712264)\n",
       "Total Recovered        AxesSubplot(0.398529,0.723302;0.227941x0.0712264)\n",
       "Serious or Critical    AxesSubplot(0.672059,0.723302;0.227941x0.0712264)\n",
       "Active Cases               AxesSubplot(0.125,0.63783;0.227941x0.0712264)\n",
       "dtype: object"
      ]
     },
     "execution_count": 38,
     "metadata": {},
     "output_type": "execute_result"
    },
    {
     "data": {
      "image/png": "[encoded data removed]",
      "text/plain": [
       "<Figure size 432x288 with 27 Axes>"
      ]
     },
     "metadata": {
      "needs_background": "light"
     },
     "output_type": "display_data"
    }
   ],
   "source": [
    "df2.plot(kind='box',subplots=True,layout=(9,3))"
   ]
  },
  {
   "cell_type": "code",
   "execution_count": 46,
   "metadata": {},
   "outputs": [],
   "source": [
    "X = df2.drop('Total Deaths',axis=1)\n",
    "y = df2['Total Deaths']"
   ]
  },
  {
   "cell_type": "code",
   "execution_count": 73,
   "metadata": {},
   "outputs": [],
   "source": [
    "from sklearn.model_selection import train_test_split"
   ]
  },
  {
   "cell_type": "code",
   "execution_count": 74,
   "metadata": {},
   "outputs": [],
   "source": [
    "# we will use regression mdels\n",
    "from sklearn.tree import DecisionTreeRegressor\n",
    "from sklearn.svm import SVR\n",
    "from sklearn.neighbors import KNeighborsRegressor\n",
    "from sklearn.model_selection import cross_val_score\n",
    "from sklearn.model_selection import GridSearchCV\n",
    "from sklearn.model_selection import RandomizedSearchCV\n",
    "from sklearn.ensemble import RandomForestRegressor\n",
    "from sklearn.ensemble import AdaBoostRegressor\n",
    "from sklearn.ensemble import GradientBoostingRegressor\n",
    "from sklearn.linear_model import LinearRegression\n",
    "from sklearn.metrics import r2_score,mean_absolute_error,mean_squared_error"
   ]
  },
  {
   "cell_type": "code",
   "execution_count": 75,
   "metadata": {},
   "outputs": [],
   "source": [
    "model=[LinearRegression(),DecisionTreeRegressor(),SVR(),KNeighborsRegressor()]"
   ]
  },
  {
   "cell_type": "code",
   "execution_count": 72,
   "metadata": {},
   "outputs": [],
   "source": [
    "X_train, X_test, y_train, y_test = train_test_split(X, y, test_size=0.33, random_state=42)"
   ]
  },
  {
   "cell_type": "code",
   "execution_count": 44,
   "metadata": {},
   "outputs": [],
   "source": [
    "def score(y_pred,y):\n",
    "    y_pred = np.log(y_pred)\n",
    "    y = np.log(y)\n",
    "    return 1 - ((np.sum((y_pred-y)**2))/len(y))**1/2"
   ]
  },
  {
   "cell_type": "code",
   "execution_count": 47,
   "metadata": {},
   "outputs": [
    {
     "ename": "ValueError",
     "evalue": "Input contains NaN, infinity or a value too large for dtype('float64').",
     "output_type": "error",
     "traceback": [
      "\u001b[1;31m---------------------------------------------------------------------------\u001b[0m",
      "\u001b[1;31mValueError\u001b[0m                                Traceback (most recent call last)",
      "\u001b[1;32m<ipython-input-47-bce0d9fea2d0>\u001b[0m in \u001b[0;36m<module>\u001b[1;34m\u001b[0m\n\u001b[0;32m      1\u001b[0m \u001b[1;32mfor\u001b[0m \u001b[0mm\u001b[0m \u001b[1;32min\u001b[0m \u001b[0mmodel\u001b[0m\u001b[1;33m:\u001b[0m\u001b[1;33m\u001b[0m\u001b[1;33m\u001b[0m\u001b[0m\n\u001b[1;32m----> 2\u001b[1;33m     \u001b[0mm\u001b[0m\u001b[1;33m.\u001b[0m\u001b[0mfit\u001b[0m\u001b[1;33m(\u001b[0m\u001b[0mX_train\u001b[0m\u001b[1;33m,\u001b[0m\u001b[0my_train\u001b[0m\u001b[1;33m)\u001b[0m\u001b[1;33m\u001b[0m\u001b[1;33m\u001b[0m\u001b[0m\n\u001b[0m\u001b[0;32m      3\u001b[0m     \u001b[0mm\u001b[0m\u001b[1;33m.\u001b[0m\u001b[0mscore\u001b[0m\u001b[1;33m(\u001b[0m\u001b[0mX_train\u001b[0m\u001b[1;33m,\u001b[0m\u001b[0my_train\u001b[0m\u001b[1;33m)\u001b[0m\u001b[1;33m\u001b[0m\u001b[1;33m\u001b[0m\u001b[0m\n\u001b[0;32m      4\u001b[0m     \u001b[0mpredm\u001b[0m\u001b[1;33m=\u001b[0m\u001b[0mm\u001b[0m\u001b[1;33m.\u001b[0m\u001b[0mpredict\u001b[0m\u001b[1;33m(\u001b[0m\u001b[0mX_test\u001b[0m\u001b[1;33m)\u001b[0m\u001b[1;33m\u001b[0m\u001b[1;33m\u001b[0m\u001b[0m\n\u001b[0;32m      5\u001b[0m     \u001b[0mprint\u001b[0m\u001b[1;33m(\u001b[0m\u001b[1;34m'Accuracy Score of'\u001b[0m\u001b[1;33m,\u001b[0m\u001b[0mm\u001b[0m\u001b[1;33m,\u001b[0m \u001b[1;34m'is: '\u001b[0m\u001b[1;33m)\u001b[0m\u001b[1;33m\u001b[0m\u001b[1;33m\u001b[0m\u001b[0m\n",
      "\u001b[1;32m~\\ANACONDA\\lib\\site-packages\\sklearn\\linear_model\\_base.py\u001b[0m in \u001b[0;36mfit\u001b[1;34m(self, X, y, sample_weight)\u001b[0m\n\u001b[0;32m    490\u001b[0m         \u001b[0mn_jobs_\u001b[0m \u001b[1;33m=\u001b[0m \u001b[0mself\u001b[0m\u001b[1;33m.\u001b[0m\u001b[0mn_jobs\u001b[0m\u001b[1;33m\u001b[0m\u001b[1;33m\u001b[0m\u001b[0m\n\u001b[0;32m    491\u001b[0m         X, y = check_X_y(X, y, accept_sparse=['csr', 'csc', 'coo'],\n\u001b[1;32m--> 492\u001b[1;33m                          y_numeric=True, multi_output=True)\n\u001b[0m\u001b[0;32m    493\u001b[0m \u001b[1;33m\u001b[0m\u001b[0m\n\u001b[0;32m    494\u001b[0m         \u001b[1;32mif\u001b[0m \u001b[0msample_weight\u001b[0m \u001b[1;32mis\u001b[0m \u001b[1;32mnot\u001b[0m \u001b[1;32mNone\u001b[0m\u001b[1;33m:\u001b[0m\u001b[1;33m\u001b[0m\u001b[1;33m\u001b[0m\u001b[0m\n",
      "\u001b[1;32m~\\ANACONDA\\lib\\site-packages\\sklearn\\utils\\validation.py\u001b[0m in \u001b[0;36mcheck_X_y\u001b[1;34m(X, y, accept_sparse, accept_large_sparse, dtype, order, copy, force_all_finite, ensure_2d, allow_nd, multi_output, ensure_min_samples, ensure_min_features, y_numeric, warn_on_dtype, estimator)\u001b[0m\n\u001b[0;32m    753\u001b[0m                     \u001b[0mensure_min_features\u001b[0m\u001b[1;33m=\u001b[0m\u001b[0mensure_min_features\u001b[0m\u001b[1;33m,\u001b[0m\u001b[1;33m\u001b[0m\u001b[1;33m\u001b[0m\u001b[0m\n\u001b[0;32m    754\u001b[0m                     \u001b[0mwarn_on_dtype\u001b[0m\u001b[1;33m=\u001b[0m\u001b[0mwarn_on_dtype\u001b[0m\u001b[1;33m,\u001b[0m\u001b[1;33m\u001b[0m\u001b[1;33m\u001b[0m\u001b[0m\n\u001b[1;32m--> 755\u001b[1;33m                     estimator=estimator)\n\u001b[0m\u001b[0;32m    756\u001b[0m     \u001b[1;32mif\u001b[0m \u001b[0mmulti_output\u001b[0m\u001b[1;33m:\u001b[0m\u001b[1;33m\u001b[0m\u001b[1;33m\u001b[0m\u001b[0m\n\u001b[0;32m    757\u001b[0m         y = check_array(y, 'csr', force_all_finite=True, ensure_2d=False,\n",
      "\u001b[1;32m~\\ANACONDA\\lib\\site-packages\\sklearn\\utils\\validation.py\u001b[0m in \u001b[0;36mcheck_array\u001b[1;34m(array, accept_sparse, accept_large_sparse, dtype, order, copy, force_all_finite, ensure_2d, allow_nd, ensure_min_samples, ensure_min_features, warn_on_dtype, estimator)\u001b[0m\n\u001b[0;32m    576\u001b[0m         \u001b[1;32mif\u001b[0m \u001b[0mforce_all_finite\u001b[0m\u001b[1;33m:\u001b[0m\u001b[1;33m\u001b[0m\u001b[1;33m\u001b[0m\u001b[0m\n\u001b[0;32m    577\u001b[0m             _assert_all_finite(array,\n\u001b[1;32m--> 578\u001b[1;33m                                allow_nan=force_all_finite == 'allow-nan')\n\u001b[0m\u001b[0;32m    579\u001b[0m \u001b[1;33m\u001b[0m\u001b[0m\n\u001b[0;32m    580\u001b[0m     \u001b[1;32mif\u001b[0m \u001b[0mensure_min_samples\u001b[0m \u001b[1;33m>\u001b[0m \u001b[1;36m0\u001b[0m\u001b[1;33m:\u001b[0m\u001b[1;33m\u001b[0m\u001b[1;33m\u001b[0m\u001b[0m\n",
      "\u001b[1;32m~\\ANACONDA\\lib\\site-packages\\sklearn\\utils\\validation.py\u001b[0m in \u001b[0;36m_assert_all_finite\u001b[1;34m(X, allow_nan, msg_dtype)\u001b[0m\n\u001b[0;32m     58\u001b[0m                     \u001b[0mmsg_err\u001b[0m\u001b[1;33m.\u001b[0m\u001b[0mformat\u001b[0m\u001b[1;33m\u001b[0m\u001b[1;33m\u001b[0m\u001b[0m\n\u001b[0;32m     59\u001b[0m                     (type_err,\n\u001b[1;32m---> 60\u001b[1;33m                      msg_dtype if msg_dtype is not None else X.dtype)\n\u001b[0m\u001b[0;32m     61\u001b[0m             )\n\u001b[0;32m     62\u001b[0m     \u001b[1;31m# for object dtype data, we only check for NaNs (GH-13254)\u001b[0m\u001b[1;33m\u001b[0m\u001b[1;33m\u001b[0m\u001b[1;33m\u001b[0m\u001b[0m\n",
      "\u001b[1;31mValueError\u001b[0m: Input contains NaN, infinity or a value too large for dtype('float64')."
     ]
    }
   ],
   "source": [
    "for m in model:\n",
    "    m.fit(X_train,y_train)\n",
    "    m.score(X_train,y_train)\n",
    "    predm=m.predict(X_test)\n",
    "    print('Accuracy Score of',m, 'is: ')\n",
    "    print(mean_absolute_error(y_test,predm))\n",
    "    print(mean_squared_error(y_test,predm))\n",
    "    print(np.sqrt(mean_squared_error(y_test,predm)))\n",
    "    print(score(predm,y_test))"
   ]
  },
  {
   "cell_type": "code",
   "execution_count": 58,
   "metadata": {},
   "outputs": [
    {
     "data": {
      "text/plain": [
       "True"
      ]
     },
     "execution_count": 58,
     "metadata": {},
     "output_type": "execute_result"
    }
   ],
   "source": [
    "np.all(np.isfinite(df2))"
   ]
  },
  {
   "cell_type": "code",
   "execution_count": 59,
   "metadata": {},
   "outputs": [
    {
     "data": {
      "text/plain": [
       "False"
      ]
     },
     "execution_count": 59,
     "metadata": {},
     "output_type": "execute_result"
    }
   ],
   "source": [
    "np.any(np.isnan(df2))"
   ]
  },
  {
   "cell_type": "code",
   "execution_count": 60,
   "metadata": {},
   "outputs": [],
   "source": [
    "from sklearn.preprocessing import StandardScaler"
   ]
  },
  {
   "cell_type": "code",
   "execution_count": 61,
   "metadata": {},
   "outputs": [],
   "source": [
    "# scaling all the values\n",
    "ss = StandardScaler()\n",
    "df3 = ss.fit_transform(df2.drop('Total Deaths',axis=1))"
   ]
  },
  {
   "cell_type": "code",
   "execution_count": 63,
   "metadata": {},
   "outputs": [
    {
     "data": {
      "text/plain": [
       "Index(['Population', 'Total Tests', 'Total Cases', 'Total Deaths',\n",
       "       'Total Recovered', 'Serious or Critical', 'Active Cases'],\n",
       "      dtype='object')"
      ]
     },
     "execution_count": 63,
     "metadata": {},
     "output_type": "execute_result"
    }
   ],
   "source": [
    "df2.columns"
   ]
  },
  {
   "cell_type": "code",
   "execution_count": 62,
   "metadata": {},
   "outputs": [
    {
     "data": {
      "text/plain": [
       "array([[ 0.01727482, -0.25612063, -0.1582198 , -0.24180939, -0.1794061 ,\n",
       "        -0.11235666],\n",
       "       [-0.23735488, -0.26145427, -0.1858136 , -0.23568983, -0.18198701,\n",
       "        -0.15077163],\n",
       "       [ 0.05224236, -0.26515168, -0.14139776, -0.16180719, -0.16362283,\n",
       "        -0.12248722],\n",
       "       ...,\n",
       "       [-0.04701721, -0.27473905, -0.19449715, -0.26015009, -0.18551095,\n",
       "        -0.1538738 ],\n",
       "       [-0.12796934, -0.26297586, -0.19213996, -0.25624765, -0.18474164,\n",
       "        -0.15199688],\n",
       "       [-0.1526299 , -0.25601281, -0.19448481, -0.25988194, -0.18551095,\n",
       "        -0.15392622]])"
      ]
     },
     "execution_count": 62,
     "metadata": {},
     "output_type": "execute_result"
    }
   ],
   "source": [
    "df3"
   ]
  },
  {
   "cell_type": "code",
   "execution_count": 64,
   "metadata": {},
   "outputs": [],
   "source": [
    "df4 = pd.DataFrame(df3,columns=['Population','Total Tests','Total Cases','Total Recovered','Serious or Critical','Active Cases'])"
   ]
  },
  {
   "cell_type": "code",
   "execution_count": 65,
   "metadata": {},
   "outputs": [
    {
     "data": {
      "text/html": [
       "<div>\n",
       "<style scoped>\n",
       "    .dataframe tbody tr th:only-of-type {\n",
       "        vertical-align: middle;\n",
       "    }\n",
       "\n",
       "    .dataframe tbody tr th {\n",
       "        vertical-align: top;\n",
       "    }\n",
       "\n",
       "    .dataframe thead th {\n",
       "        text-align: right;\n",
       "    }\n",
       "</style>\n",
       "<table border=\"1\" class=\"dataframe\">\n",
       "  <thead>\n",
       "    <tr style=\"text-align: right;\">\n",
       "      <th></th>\n",
       "      <th>Population</th>\n",
       "      <th>Total Tests</th>\n",
       "      <th>Total Cases</th>\n",
       "      <th>Total Recovered</th>\n",
       "      <th>Serious or Critical</th>\n",
       "      <th>Active Cases</th>\n",
       "    </tr>\n",
       "  </thead>\n",
       "  <tbody>\n",
       "    <tr>\n",
       "      <th>0</th>\n",
       "      <td>0.017275</td>\n",
       "      <td>-0.256121</td>\n",
       "      <td>-0.158220</td>\n",
       "      <td>-0.241809</td>\n",
       "      <td>-0.179406</td>\n",
       "      <td>-0.112357</td>\n",
       "    </tr>\n",
       "    <tr>\n",
       "      <th>1</th>\n",
       "      <td>-0.237355</td>\n",
       "      <td>-0.261454</td>\n",
       "      <td>-0.185814</td>\n",
       "      <td>-0.235690</td>\n",
       "      <td>-0.181987</td>\n",
       "      <td>-0.150772</td>\n",
       "    </tr>\n",
       "    <tr>\n",
       "      <th>2</th>\n",
       "      <td>0.052242</td>\n",
       "      <td>-0.265152</td>\n",
       "      <td>-0.141398</td>\n",
       "      <td>-0.161807</td>\n",
       "      <td>-0.163623</td>\n",
       "      <td>-0.122487</td>\n",
       "    </tr>\n",
       "    <tr>\n",
       "      <th>3</th>\n",
       "      <td>-0.257199</td>\n",
       "      <td>-0.272035</td>\n",
       "      <td>-0.186250</td>\n",
       "      <td>-0.238894</td>\n",
       "      <td>-0.175336</td>\n",
       "      <td>-0.150517</td>\n",
       "    </tr>\n",
       "    <tr>\n",
       "      <th>4</th>\n",
       "      <td>-0.025842</td>\n",
       "      <td>-0.271838</td>\n",
       "      <td>-0.194473</td>\n",
       "      <td>-0.259714</td>\n",
       "      <td>-0.185511</td>\n",
       "      <td>-0.153938</td>\n",
       "    </tr>\n",
       "    <tr>\n",
       "      <th>...</th>\n",
       "      <td>...</td>\n",
       "      <td>...</td>\n",
       "      <td>...</td>\n",
       "      <td>...</td>\n",
       "      <td>...</td>\n",
       "      <td>...</td>\n",
       "    </tr>\n",
       "    <tr>\n",
       "      <th>208</th>\n",
       "      <td>0.431159</td>\n",
       "      <td>0.095386</td>\n",
       "      <td>-0.191612</td>\n",
       "      <td>-0.249412</td>\n",
       "      <td>-0.180548</td>\n",
       "      <td>-0.153518</td>\n",
       "    </tr>\n",
       "    <tr>\n",
       "      <th>209</th>\n",
       "      <td>-0.253528</td>\n",
       "      <td>-0.274886</td>\n",
       "      <td>-0.194807</td>\n",
       "      <td>-0.259981</td>\n",
       "      <td>-0.185511</td>\n",
       "      <td>-0.154267</td>\n",
       "    </tr>\n",
       "    <tr>\n",
       "      <th>210</th>\n",
       "      <td>-0.047017</td>\n",
       "      <td>-0.274739</td>\n",
       "      <td>-0.194497</td>\n",
       "      <td>-0.260150</td>\n",
       "      <td>-0.185511</td>\n",
       "      <td>-0.153874</td>\n",
       "    </tr>\n",
       "    <tr>\n",
       "      <th>211</th>\n",
       "      <td>-0.127969</td>\n",
       "      <td>-0.262976</td>\n",
       "      <td>-0.192140</td>\n",
       "      <td>-0.256248</td>\n",
       "      <td>-0.184742</td>\n",
       "      <td>-0.151997</td>\n",
       "    </tr>\n",
       "    <tr>\n",
       "      <th>212</th>\n",
       "      <td>-0.152630</td>\n",
       "      <td>-0.256013</td>\n",
       "      <td>-0.194485</td>\n",
       "      <td>-0.259882</td>\n",
       "      <td>-0.185511</td>\n",
       "      <td>-0.153926</td>\n",
       "    </tr>\n",
       "  </tbody>\n",
       "</table>\n",
       "<p>213 rows × 6 columns</p>\n",
       "</div>"
      ],
      "text/plain": [
       "     Population  Total Tests  Total Cases  Total Recovered  \\\n",
       "0      0.017275    -0.256121    -0.158220        -0.241809   \n",
       "1     -0.237355    -0.261454    -0.185814        -0.235690   \n",
       "2      0.052242    -0.265152    -0.141398        -0.161807   \n",
       "3     -0.257199    -0.272035    -0.186250        -0.238894   \n",
       "4     -0.025842    -0.271838    -0.194473        -0.259714   \n",
       "..          ...          ...          ...              ...   \n",
       "208    0.431159     0.095386    -0.191612        -0.249412   \n",
       "209   -0.253528    -0.274886    -0.194807        -0.259981   \n",
       "210   -0.047017    -0.274739    -0.194497        -0.260150   \n",
       "211   -0.127969    -0.262976    -0.192140        -0.256248   \n",
       "212   -0.152630    -0.256013    -0.194485        -0.259882   \n",
       "\n",
       "     Serious or Critical  Active Cases  \n",
       "0              -0.179406     -0.112357  \n",
       "1              -0.181987     -0.150772  \n",
       "2              -0.163623     -0.122487  \n",
       "3              -0.175336     -0.150517  \n",
       "4              -0.185511     -0.153938  \n",
       "..                   ...           ...  \n",
       "208            -0.180548     -0.153518  \n",
       "209            -0.185511     -0.154267  \n",
       "210            -0.185511     -0.153874  \n",
       "211            -0.184742     -0.151997  \n",
       "212            -0.185511     -0.153926  \n",
       "\n",
       "[213 rows x 6 columns]"
      ]
     },
     "execution_count": 65,
     "metadata": {},
     "output_type": "execute_result"
    }
   ],
   "source": [
    "# dataframe with all the scaled values\n",
    "df4"
   ]
  },
  {
   "cell_type": "code",
   "execution_count": 67,
   "metadata": {},
   "outputs": [],
   "source": [
    "df5 = pd.concat([df4,df2['Total Deaths']],axis=1)"
   ]
  },
  {
   "cell_type": "code",
   "execution_count": 68,
   "metadata": {},
   "outputs": [
    {
     "data": {
      "text/html": [
       "<div>\n",
       "<style scoped>\n",
       "    .dataframe tbody tr th:only-of-type {\n",
       "        vertical-align: middle;\n",
       "    }\n",
       "\n",
       "    .dataframe tbody tr th {\n",
       "        vertical-align: top;\n",
       "    }\n",
       "\n",
       "    .dataframe thead th {\n",
       "        text-align: right;\n",
       "    }\n",
       "</style>\n",
       "<table border=\"1\" class=\"dataframe\">\n",
       "  <thead>\n",
       "    <tr style=\"text-align: right;\">\n",
       "      <th></th>\n",
       "      <th>Population</th>\n",
       "      <th>Total Tests</th>\n",
       "      <th>Total Cases</th>\n",
       "      <th>Total Recovered</th>\n",
       "      <th>Serious or Critical</th>\n",
       "      <th>Active Cases</th>\n",
       "      <th>Total Deaths</th>\n",
       "    </tr>\n",
       "  </thead>\n",
       "  <tbody>\n",
       "    <tr>\n",
       "      <th>0</th>\n",
       "      <td>0.017275</td>\n",
       "      <td>-0.256121</td>\n",
       "      <td>-0.158220</td>\n",
       "      <td>-0.241809</td>\n",
       "      <td>-0.179406</td>\n",
       "      <td>-0.112357</td>\n",
       "      <td>2740.0</td>\n",
       "    </tr>\n",
       "    <tr>\n",
       "      <th>1</th>\n",
       "      <td>-0.237355</td>\n",
       "      <td>-0.261454</td>\n",
       "      <td>-0.185814</td>\n",
       "      <td>-0.235690</td>\n",
       "      <td>-0.181987</td>\n",
       "      <td>-0.150772</td>\n",
       "      <td>915.0</td>\n",
       "    </tr>\n",
       "    <tr>\n",
       "      <th>2</th>\n",
       "      <td>0.052242</td>\n",
       "      <td>-0.265152</td>\n",
       "      <td>-0.141398</td>\n",
       "      <td>-0.161807</td>\n",
       "      <td>-0.163623</td>\n",
       "      <td>-0.122487</td>\n",
       "      <td>14356.0</td>\n",
       "    </tr>\n",
       "    <tr>\n",
       "      <th>3</th>\n",
       "      <td>-0.257199</td>\n",
       "      <td>-0.272035</td>\n",
       "      <td>-0.186250</td>\n",
       "      <td>-0.238894</td>\n",
       "      <td>-0.175336</td>\n",
       "      <td>-0.150517</td>\n",
       "      <td>1359.0</td>\n",
       "    </tr>\n",
       "    <tr>\n",
       "      <th>4</th>\n",
       "      <td>-0.025842</td>\n",
       "      <td>-0.271838</td>\n",
       "      <td>-0.194473</td>\n",
       "      <td>-0.259714</td>\n",
       "      <td>-0.185511</td>\n",
       "      <td>-0.153938</td>\n",
       "      <td>63.0</td>\n",
       "    </tr>\n",
       "    <tr>\n",
       "      <th>...</th>\n",
       "      <td>...</td>\n",
       "      <td>...</td>\n",
       "      <td>...</td>\n",
       "      <td>...</td>\n",
       "      <td>...</td>\n",
       "      <td>...</td>\n",
       "      <td>...</td>\n",
       "    </tr>\n",
       "    <tr>\n",
       "      <th>208</th>\n",
       "      <td>0.431159</td>\n",
       "      <td>0.095386</td>\n",
       "      <td>-0.191612</td>\n",
       "      <td>-0.249412</td>\n",
       "      <td>-0.180548</td>\n",
       "      <td>-0.153518</td>\n",
       "      <td>0.0</td>\n",
       "    </tr>\n",
       "    <tr>\n",
       "      <th>209</th>\n",
       "      <td>-0.253528</td>\n",
       "      <td>-0.274886</td>\n",
       "      <td>-0.194807</td>\n",
       "      <td>-0.259981</td>\n",
       "      <td>-0.185511</td>\n",
       "      <td>-0.154267</td>\n",
       "      <td>0.0</td>\n",
       "    </tr>\n",
       "    <tr>\n",
       "      <th>210</th>\n",
       "      <td>-0.047017</td>\n",
       "      <td>-0.274739</td>\n",
       "      <td>-0.194497</td>\n",
       "      <td>-0.260150</td>\n",
       "      <td>-0.185511</td>\n",
       "      <td>-0.153874</td>\n",
       "      <td>162.0</td>\n",
       "    </tr>\n",
       "    <tr>\n",
       "      <th>211</th>\n",
       "      <td>-0.127969</td>\n",
       "      <td>-0.262976</td>\n",
       "      <td>-0.192140</td>\n",
       "      <td>-0.256248</td>\n",
       "      <td>-0.184742</td>\n",
       "      <td>-0.151997</td>\n",
       "      <td>135.0</td>\n",
       "    </tr>\n",
       "    <tr>\n",
       "      <th>212</th>\n",
       "      <td>-0.152630</td>\n",
       "      <td>-0.256013</td>\n",
       "      <td>-0.194485</td>\n",
       "      <td>-0.259882</td>\n",
       "      <td>-0.185511</td>\n",
       "      <td>-0.153926</td>\n",
       "      <td>120.0</td>\n",
       "    </tr>\n",
       "  </tbody>\n",
       "</table>\n",
       "<p>213 rows × 7 columns</p>\n",
       "</div>"
      ],
      "text/plain": [
       "     Population  Total Tests  Total Cases  Total Recovered  \\\n",
       "0      0.017275    -0.256121    -0.158220        -0.241809   \n",
       "1     -0.237355    -0.261454    -0.185814        -0.235690   \n",
       "2      0.052242    -0.265152    -0.141398        -0.161807   \n",
       "3     -0.257199    -0.272035    -0.186250        -0.238894   \n",
       "4     -0.025842    -0.271838    -0.194473        -0.259714   \n",
       "..          ...          ...          ...              ...   \n",
       "208    0.431159     0.095386    -0.191612        -0.249412   \n",
       "209   -0.253528    -0.274886    -0.194807        -0.259981   \n",
       "210   -0.047017    -0.274739    -0.194497        -0.260150   \n",
       "211   -0.127969    -0.262976    -0.192140        -0.256248   \n",
       "212   -0.152630    -0.256013    -0.194485        -0.259882   \n",
       "\n",
       "     Serious or Critical  Active Cases  Total Deaths  \n",
       "0              -0.179406     -0.112357        2740.0  \n",
       "1              -0.181987     -0.150772         915.0  \n",
       "2              -0.163623     -0.122487       14356.0  \n",
       "3              -0.175336     -0.150517        1359.0  \n",
       "4              -0.185511     -0.153938          63.0  \n",
       "..                   ...           ...           ...  \n",
       "208            -0.180548     -0.153518           0.0  \n",
       "209            -0.185511     -0.154267           0.0  \n",
       "210            -0.185511     -0.153874         162.0  \n",
       "211            -0.184742     -0.151997         135.0  \n",
       "212            -0.185511     -0.153926         120.0  \n",
       "\n",
       "[213 rows x 7 columns]"
      ]
     },
     "execution_count": 68,
     "metadata": {},
     "output_type": "execute_result"
    }
   ],
   "source": [
    "# target variable Total Deaths\n",
    "df5"
   ]
  },
  {
   "cell_type": "code",
   "execution_count": 70,
   "metadata": {},
   "outputs": [],
   "source": [
    "X = df5.drop('Total Deaths',axis=1)\n",
    "y = df5['Total Deaths']"
   ]
  },
  {
   "cell_type": "code",
   "execution_count": 77,
   "metadata": {},
   "outputs": [
    {
     "name": "stdout",
     "output_type": "stream",
     "text": [
      "Accuracy Score of LinearRegression(copy_X=True, fit_intercept=True, n_jobs=None, normalize=False) is: \n",
      "17444.342657802343\n",
      "15353277886.697315\n",
      "123908.3447016274\n",
      "-inf\n",
      "0.4637455092531011\n",
      "Accuracy Score of DecisionTreeRegressor(ccp_alpha=0.0, criterion='mse', max_depth=None,\n",
      "                      max_features=None, max_leaf_nodes=None,\n",
      "                      min_impurity_decrease=0.0, min_impurity_split=None,\n",
      "                      min_samples_leaf=1, min_samples_split=2,\n",
      "                      min_weight_fraction_leaf=0.0, presort='deprecated',\n",
      "                      random_state=None, splitter='best') is: \n",
      "45136.18309859155\n",
      "20271974872.40845\n",
      "142379.68560299763\n",
      "-inf\n",
      "0.2919467984712024\n",
      "Accuracy Score of SVR(C=1.0, cache_size=200, coef0=0.0, degree=3, epsilon=0.1, gamma='scale',\n",
      "    kernel='rbf', max_iter=-1, shrinking=True, tol=0.001, verbose=False) is: \n",
      "51302.60621923072\n",
      "31234383852.889015\n",
      "176732.52064317142\n",
      "-inf\n",
      "-0.09094479566064884\n",
      "Accuracy Score of"
     ]
    },
    {
     "name": "stderr",
     "output_type": "stream",
     "text": [
      "C:\\Users\\abhishek30april\\ANACONDA\\lib\\site-packages\\ipykernel_launcher.py:2: RuntimeWarning: invalid value encountered in log\n",
      "  \n",
      "C:\\Users\\abhishek30april\\ANACONDA\\lib\\site-packages\\pandas\\core\\series.py:679: RuntimeWarning: divide by zero encountered in log\n",
      "  result = getattr(ufunc, method)(*inputs, **kwargs)\n",
      "C:\\Users\\abhishek30april\\ANACONDA\\lib\\site-packages\\ipykernel_launcher.py:2: RuntimeWarning: divide by zero encountered in log\n",
      "  \n",
      "C:\\Users\\abhishek30april\\ANACONDA\\lib\\site-packages\\pandas\\core\\series.py:679: RuntimeWarning: divide by zero encountered in log\n",
      "  result = getattr(ufunc, method)(*inputs, **kwargs)\n",
      "C:\\Users\\abhishek30april\\ANACONDA\\lib\\site-packages\\pandas\\core\\series.py:679: RuntimeWarning: divide by zero encountered in log\n",
      "  result = getattr(ufunc, method)(*inputs, **kwargs)\n"
     ]
    },
    {
     "name": "stdout",
     "output_type": "stream",
     "text": [
      " KNeighborsRegressor(algorithm='auto', leaf_size=30, metric='minkowski',\n",
      "                    metric_params=None, n_jobs=None, n_neighbors=5, p=2,\n",
      "                    weights='uniform') is: \n",
      "41254.68450704225\n",
      "23255610826.620285\n",
      "152497.90433517532\n",
      "-inf\n",
      "0.1877352945169688\n"
     ]
    },
    {
     "name": "stderr",
     "output_type": "stream",
     "text": [
      "C:\\Users\\abhishek30april\\ANACONDA\\lib\\site-packages\\pandas\\core\\series.py:679: RuntimeWarning: divide by zero encountered in log\n",
      "  result = getattr(ufunc, method)(*inputs, **kwargs)\n"
     ]
    }
   ],
   "source": [
    "for m in model:\n",
    "    m.fit(X_train,y_train)\n",
    "    m.score(X_train,y_train)\n",
    "    predm=m.predict(X_test)\n",
    "    print('Accuracy Score of',m, 'is: ')\n",
    "    print(mean_absolute_error(y_test,predm))\n",
    "    print(mean_squared_error(y_test,predm))\n",
    "    print(np.sqrt(mean_squared_error(y_test,predm)))\n",
    "    print(score(predm,y_test))\n",
    "    print(r2_score(y_test,predm))"
   ]
  },
  {
   "cell_type": "code",
   "execution_count": 78,
   "metadata": {},
   "outputs": [
    {
     "data": {
      "text/plain": [
       "GridSearchCV(cv=None, error_score=nan,\n",
       "             estimator=DecisionTreeRegressor(ccp_alpha=0.0, criterion='mse',\n",
       "                                             max_depth=None, max_features=None,\n",
       "                                             max_leaf_nodes=None,\n",
       "                                             min_impurity_decrease=0.0,\n",
       "                                             min_impurity_split=None,\n",
       "                                             min_samples_leaf=1,\n",
       "                                             min_samples_split=2,\n",
       "                                             min_weight_fraction_leaf=0.0,\n",
       "                                             presort='deprecated',\n",
       "                                             random_state=None,\n",
       "                                             splitter='best'),\n",
       "             iid='deprecated', n_jobs=None,\n",
       "             param_grid={'criterion': ['mse', 'mae'],\n",
       "                         'splitter': ['best', 'random']},\n",
       "             pre_dispatch='2*n_jobs', refit=True, return_train_score=False,\n",
       "             scoring=None, verbose=0)"
      ]
     },
     "execution_count": 78,
     "metadata": {},
     "output_type": "execute_result"
    }
   ],
   "source": [
    "dtc = DecisionTreeRegressor()\n",
    "params = {'criterion': ['mse','mae'],'splitter':['best','random']}\n",
    "gscv = GridSearchCV(dtc,param_grid=params)\n",
    "gscv.fit(X_train,y_train)"
   ]
  },
  {
   "cell_type": "code",
   "execution_count": 79,
   "metadata": {},
   "outputs": [
    {
     "data": {
      "text/plain": [
       "{'criterion': 'mae', 'splitter': 'best'}"
      ]
     },
     "execution_count": 79,
     "metadata": {},
     "output_type": "execute_result"
    }
   ],
   "source": [
    "gscv.best_params_"
   ]
  },
  {
   "cell_type": "code",
   "execution_count": 80,
   "metadata": {},
   "outputs": [
    {
     "data": {
      "text/plain": [
       "array([9.20000e+01, 2.48971e+05, 2.40000e+01, 3.73000e+02, 2.41000e+02,\n",
       "       3.65000e+02, 1.90460e+04, 0.00000e+00, 2.48971e+05, 2.87800e+03,\n",
       "       2.40000e+01, 6.49400e+03, 0.00000e+00, 0.00000e+00, 1.10800e+04,\n",
       "       5.58000e+02, 5.58000e+02, 4.40160e+04, 5.58000e+02, 3.06700e+03,\n",
       "       7.67305e+05, 2.55000e+02, 2.90000e+01, 4.90000e+01, 0.00000e+00,\n",
       "       2.99000e+02, 9.37000e+02, 0.00000e+00, 1.64800e+03, 2.07000e+02,\n",
       "       3.10000e+01, 3.12650e+04, 7.67305e+05, 1.14884e+05, 7.67305e+05,\n",
       "       1.17000e+02, 3.10000e+01, 4.40160e+04, 6.49400e+03, 0.00000e+00,\n",
       "       2.06800e+04, 7.67305e+05, 0.00000e+00, 3.10000e+01, 1.10800e+04,\n",
       "       1.03970e+04, 8.14200e+03, 6.49400e+03, 7.74600e+03, 0.00000e+00,\n",
       "       5.20000e+01, 2.27500e+03, 1.43560e+04, 1.64900e+03, 1.03970e+04,\n",
       "       0.00000e+00, 0.00000e+00, 2.29000e+02, 9.30000e+01, 4.40000e+01,\n",
       "       2.40000e+01, 1.20000e+02, 6.49400e+03, 3.17600e+03, 3.62000e+02,\n",
       "       1.17000e+02, 3.10000e+01, 5.79000e+02, 1.24000e+02, 4.40000e+01,\n",
       "       2.59200e+03])"
      ]
     },
     "execution_count": 80,
     "metadata": {},
     "output_type": "execute_result"
    }
   ],
   "source": [
    "dtc=DecisionTreeRegressor(criterion='mse',splitter='best')\n",
    "dtc.fit(X_train,y_train)\n",
    "dtcpred=dtc.predict(X_test)\n",
    "dtcpred"
   ]
  },
  {
   "cell_type": "code",
   "execution_count": 82,
   "metadata": {},
   "outputs": [
    {
     "data": {
      "text/plain": [
       "0.6902526011228932"
      ]
     },
     "execution_count": 82,
     "metadata": {},
     "output_type": "execute_result"
    }
   ],
   "source": [
    "r2_score(y_test,dtcpred)"
   ]
  },
  {
   "cell_type": "code",
   "execution_count": 83,
   "metadata": {},
   "outputs": [
    {
     "data": {
      "text/plain": [
       "array([ 4.08503261e-01,  6.90199571e-01,  4.35467626e-01,  1.26851240e-01,\n",
       "       -2.62890508e-01,  5.55031642e-01,  8.49083089e-01,  4.93472242e-01,\n",
       "       -1.01477271e-01,  7.86154984e-01,  4.92676217e-01, -3.02912670e-01,\n",
       "        5.24279271e-01,  9.62072989e-01,  2.95891206e-01, -8.44492966e+00,\n",
       "        8.31792950e-01, -1.37734826e+01,  8.11349329e-01,  6.28772955e-01,\n",
       "        8.44565438e-01,  9.74979060e-01,  4.99445744e-01, -2.40836638e+01,\n",
       "        2.05363932e-01,  4.03781708e-01, -6.84387561e-01,  5.27920071e-01,\n",
       "       -4.86393293e-01, -1.10272543e+00, -1.98588815e+00,  1.57612825e-01,\n",
       "        9.20606682e-01, -6.66392983e-01, -3.05009217e+01, -1.43467767e+00,\n",
       "       -4.79073636e+02, -1.29518909e+00,  7.72083372e-01, -2.89888407e-01,\n",
       "       -8.43421774e+00,  9.70198876e-01, -3.33578504e-01, -4.28012510e-01,\n",
       "       -5.61637871e+01, -3.34384798e-02,  9.86094298e-01,  5.49081162e-01,\n",
       "        2.47592942e-01, -1.03127283e+00])"
      ]
     },
     "execution_count": 83,
     "metadata": {},
     "output_type": "execute_result"
    }
   ],
   "source": [
    "cvs = cross_val_score(DecisionTreeRegressor(criterion='mse',splitter='best'),X,y,cv=50)\n",
    "cvs"
   ]
  },
  {
   "cell_type": "code",
   "execution_count": 84,
   "metadata": {},
   "outputs": [
    {
     "data": {
      "text/plain": [
       "-12.279256777731012"
      ]
     },
     "execution_count": 84,
     "metadata": {},
     "output_type": "execute_result"
    }
   ],
   "source": [
    "cvs.mean()"
   ]
  },
  {
   "cell_type": "code",
   "execution_count": 85,
   "metadata": {},
   "outputs": [
    {
     "data": {
      "text/plain": [
       "0.9860942982731836"
      ]
     },
     "execution_count": 85,
     "metadata": {},
     "output_type": "execute_result"
    }
   ],
   "source": [
    "cvs.max()"
   ]
  },
  {
   "cell_type": "code",
   "execution_count": 86,
   "metadata": {},
   "outputs": [
    {
     "data": {
      "text/plain": [
       "array([ 7.26743313e+01,  1.02526024e+05, -4.76683221e+00,  5.08361558e+02,\n",
       "        2.54086240e+00,  4.85735775e+02,  5.66026643e+03,  3.24392912e+02,\n",
       "        2.11171352e+05,  2.44602665e+03, -5.16485203e+00,  5.89516211e+03,\n",
       "        1.36084392e+02,  2.75039855e+01,  4.41309081e+03,  7.91890146e+01,\n",
       "        2.83519559e+02,  2.38657400e+05,  2.91780501e+02,  1.47564115e+03,\n",
       "        8.80150633e+05,  2.44847029e+02,  1.70493916e+02,  2.44861133e+02,\n",
       "        1.02696962e+02,  8.09604656e+02,  1.39141419e+03,  3.35397158e+01,\n",
       "        7.79871932e+02,  2.00322673e+02, -4.65204884e+00,  3.47575884e+05,\n",
       "        3.97605918e+04,  1.91370321e+05,  7.61691355e+05,  5.00451490e+01,\n",
       "       -5.00452382e+00,  4.03279212e+04,  7.58846658e+03,  5.73641871e+01,\n",
       "        1.56108919e+04,  1.85098683e+06,  9.23222702e+01, -4.01341443e+00,\n",
       "        8.35877464e+03,  8.04956581e+02,  7.26036779e+04,  3.76598025e+04,\n",
       "        4.20270887e+03, -2.82253439e+00,  3.05963210e+01,  2.61204408e+03,\n",
       "        6.92934378e+03,  3.33806521e+03,  2.34816256e+03,  5.67721221e+01,\n",
       "        2.62289724e+01,  6.16303059e+02,  8.26015068e+01, -3.75036974e+00,\n",
       "       -5.18244508e+00,  2.01026261e+02,  1.01617084e+04,  4.77963858e+03,\n",
       "        4.76296531e+02,  4.80031773e+01,  2.87859873e+00,  5.12632679e+02,\n",
       "        2.68837766e+02,  3.15905512e+01,  9.58788135e+02])"
      ]
     },
     "execution_count": 86,
     "metadata": {},
     "output_type": "execute_result"
    }
   ],
   "source": [
    "lr = LinearRegression()\n",
    "lr.fit(X_train,y_train)\n",
    "lrpred = lr.predict(X_test)\n",
    "lrpred"
   ]
  },
  {
   "cell_type": "code",
   "execution_count": 87,
   "metadata": {},
   "outputs": [
    {
     "data": {
      "text/plain": [
       "0.4637455092531011"
      ]
     },
     "execution_count": 87,
     "metadata": {},
     "output_type": "execute_result"
    }
   ],
   "source": [
    "r2_score(y_test,lrpred)"
   ]
  },
  {
   "cell_type": "code",
   "execution_count": 88,
   "metadata": {},
   "outputs": [
    {
     "data": {
      "text/plain": [
       "array([ 9.31661369e-01,  8.41681688e-01, -2.26530692e-01,  8.58096013e-01,\n",
       "        9.05801337e-01,  3.68709088e-01,  2.42819837e-01,  9.98809347e-01,\n",
       "        2.33563735e-01,  5.36134228e-01,  8.53969994e-01,  9.69369269e-01,\n",
       "       -1.40603966e+01,  8.51098459e-01,  8.68807860e-01, -3.78224656e-01,\n",
       "        8.37720705e-01, -1.58285156e+01, -1.24127122e+00, -8.90467243e+00,\n",
       "        6.66054034e-01,  8.50168449e-01,  7.70389121e-01, -1.11290089e+01,\n",
       "       -2.06182971e+00, -4.12528733e+00,  1.46660664e-01, -2.40113530e-01,\n",
       "        9.88675542e-01, -4.18932562e+00,  5.58669606e-01,  8.97252697e-01,\n",
       "       -1.10789691e+01,  8.02670290e-01,  2.16077292e-01,  3.10703114e-01,\n",
       "       -5.06643172e-01,  7.35957008e-01, -2.13912415e+01, -1.02587768e-01,\n",
       "       -6.05908765e+01,  9.88392924e-01, -1.56420445e+00,  7.85460205e-01,\n",
       "       -1.70974504e+01,  4.39870277e-01, -5.95206702e-01,  8.32644190e-01,\n",
       "       -4.65562440e+03, -2.39586115e+02])"
      ]
     },
     "execution_count": 88,
     "metadata": {},
     "output_type": "execute_result"
    }
   ],
   "source": [
    "cvs = cross_val_score(LinearRegression(),X,y,cv=50)\n",
    "cvs"
   ]
  },
  {
   "cell_type": "code",
   "execution_count": 89,
   "metadata": {},
   "outputs": [
    {
     "data": {
      "text/plain": [
       "-101.0046996250775"
      ]
     },
     "execution_count": 89,
     "metadata": {},
     "output_type": "execute_result"
    }
   ],
   "source": [
    "cvs.mean()"
   ]
  },
  {
   "cell_type": "code",
   "execution_count": 90,
   "metadata": {},
   "outputs": [
    {
     "data": {
      "text/plain": [
       "0.9988093467866778"
      ]
     },
     "execution_count": 90,
     "metadata": {},
     "output_type": "execute_result"
    }
   ],
   "source": [
    "cvs.max()"
   ]
  },
  {
   "cell_type": "code",
   "execution_count": 91,
   "metadata": {},
   "outputs": [
    {
     "data": {
      "text/plain": [
       "array([362.88335512, 371.98430754, 362.86893492, 364.01645504,\n",
       "       363.36424162, 362.95452855, 367.21857606, 363.05971728,\n",
       "       370.91118277, 363.05307373, 362.86740128, 363.805667  ,\n",
       "       362.97326382, 362.90755103, 365.40677844, 362.87328562,\n",
       "       363.03102693, 367.61341949, 362.96327096, 363.68815773,\n",
       "       370.91126505, 365.74752836, 363.38418778, 362.90244012,\n",
       "       363.0697268 , 363.97143942, 363.26711757, 362.92917729,\n",
       "       363.35269921, 362.88556854, 362.87027179, 365.84076131,\n",
       "       370.43501778, 371.26818446, 371.32303326, 363.83182492,\n",
       "       362.86900117, 368.20954211, 365.72474256, 362.9145028 ,\n",
       "       367.0800725 , 371.36625937, 362.90127412, 362.87269357,\n",
       "       367.44963487, 363.15237858, 367.93217082, 365.38568571,\n",
       "       363.34016811, 362.9110735 , 362.88109073, 363.13038028,\n",
       "       363.69566718, 364.71554784, 363.2122851 , 362.8772658 ,\n",
       "       362.87775128, 362.91237986, 362.87112502, 362.88480301,\n",
       "       362.86719039, 363.91773703, 363.60300703, 368.77786396,\n",
       "       364.2827361 , 363.56486054, 362.90727458, 363.14936773,\n",
       "       363.34002788, 363.06139216, 363.74871831])"
      ]
     },
     "execution_count": 91,
     "metadata": {},
     "output_type": "execute_result"
    }
   ],
   "source": [
    "svr= SVR()\n",
    "svr.fit(X_train,y_train)\n",
    "svrpred = svr.predict(X_test)\n",
    "svrpred"
   ]
  },
  {
   "cell_type": "code",
   "execution_count": 92,
   "metadata": {},
   "outputs": [
    {
     "data": {
      "text/plain": [
       "GridSearchCV(cv=None, error_score=nan,\n",
       "             estimator=SVR(C=1.0, cache_size=200, coef0=0.0, degree=3,\n",
       "                           epsilon=0.1, gamma='scale', kernel='rbf',\n",
       "                           max_iter=-1, shrinking=True, tol=0.001,\n",
       "                           verbose=False),\n",
       "             iid='deprecated', n_jobs=None,\n",
       "             param_grid={'C': [0.0001, 0.001, 0.01, 0.1, 1, 10],\n",
       "                         'gamma': [0.1, 1, 10, 100]},\n",
       "             pre_dispatch='2*n_jobs', refit=True, return_train_score=False,\n",
       "             scoring=None, verbose=0)"
      ]
     },
     "execution_count": 92,
     "metadata": {},
     "output_type": "execute_result"
    }
   ],
   "source": [
    "params = {'C':[0.0001,0.001,0.01,0.1,1,10],'gamma':[0.1,1,10,100]}\n",
    "gscv = GridSearchCV(svr,param_grid=params)\n",
    "gscv.fit(X_train,y_train)"
   ]
  },
  {
   "cell_type": "code",
   "execution_count": 93,
   "metadata": {},
   "outputs": [
    {
     "data": {
      "text/plain": [
       "{'C': 10, 'gamma': 10}"
      ]
     },
     "execution_count": 93,
     "metadata": {},
     "output_type": "execute_result"
    }
   ],
   "source": [
    "gscv.best_params_"
   ]
  },
  {
   "cell_type": "code",
   "execution_count": 94,
   "metadata": {},
   "outputs": [
    {
     "data": {
      "text/plain": [
       "array([324.85662278, 610.21753562, 323.71911934, 602.81340446,\n",
       "       437.03450608, 330.24640123, 616.10377329, 348.64845615,\n",
       "       610.21753562, 345.24687082, 323.61101828, 525.78749243,\n",
       "       333.06990107, 325.62002937, 651.77140394, 323.942462  ,\n",
       "       342.55274622, 611.54839181, 331.36566339, 537.16064987,\n",
       "       610.21753562, 630.26311969, 448.9126363 , 325.50182042,\n",
       "       345.3413173 , 588.21132169, 400.03144374, 327.40991207,\n",
       "       416.220945  , 324.85239396, 323.76738858, 614.00418867,\n",
       "       610.21753562, 610.21753562, 610.21753562, 555.22408161,\n",
       "       323.66535694, 611.06865512, 643.05517865, 326.55399836,\n",
       "       618.98867399, 610.21753562, 325.62363171, 323.93012064,\n",
       "       616.81298147, 359.8032198 , 610.40456686, 632.10939435,\n",
       "       449.12447131, 325.87116759, 324.62883471, 357.14730891,\n",
       "       503.1845476 , 644.57312844, 372.01869699, 324.05374179,\n",
       "       323.97614811, 328.32123582, 323.92894597, 324.32023901,\n",
       "       323.59005851, 586.0130151 , 481.94489742, 610.24241753,\n",
       "       618.39776729, 471.25226617, 326.96954581, 369.45397124,\n",
       "       409.91771013, 349.84289617, 519.89121164])"
      ]
     },
     "execution_count": 94,
     "metadata": {},
     "output_type": "execute_result"
    }
   ],
   "source": [
    "svr= SVR(C=10,gamma=10,kernel='rbf')\n",
    "svr.fit(X_train,y_train)\n",
    "svrpred = svr.predict(X_test)\n",
    "svrpred"
   ]
  },
  {
   "cell_type": "code",
   "execution_count": 95,
   "metadata": {},
   "outputs": [
    {
     "data": {
      "text/plain": [
       "-0.0900913525787248"
      ]
     },
     "execution_count": 95,
     "metadata": {},
     "output_type": "execute_result"
    }
   ],
   "source": [
    "r2_score(y_test,svrpred)"
   ]
  },
  {
   "cell_type": "code",
   "execution_count": 98,
   "metadata": {},
   "outputs": [
    {
     "data": {
      "text/plain": [
       "array([ 6.38329430e+01,  3.21214496e+05,  3.15209095e+01,  7.61402831e+02,\n",
       "        3.31421942e+02,  6.77409650e+01,  5.37629467e+03,  1.21445306e+02,\n",
       "        4.16030608e+06,  4.27324960e+02,  2.44618763e+01,  1.30972459e+03,\n",
       "        6.68052736e+01,  5.02036415e+01,  1.50978244e+03,  2.87260677e+01,\n",
       "        9.14270682e+01,  8.59057907e+02,  6.83464892e+01,  4.87134223e+02,\n",
       "        2.24869765e+06,  2.37213266e+03,  2.87011314e+02,  7.92171473e+01,\n",
       "        5.53921675e+02,  1.03537823e+03,  2.75606875e+02,  1.64358504e+02,\n",
       "        1.20552118e+03,  6.86030636e+01,  3.26784898e+01,  6.85340743e+02,\n",
       "        4.99428494e+06, -2.66981415e+05, -2.25197747e+05,  1.10301895e+03,\n",
       "        2.53444599e+01,  1.93477598e+03,  2.00960889e+03,  7.08241108e+01,\n",
       "        1.68106265e+03, -3.77707450e+03,  5.46468127e+01,  4.72547235e+01,\n",
       "        4.96125823e+03,  6.42147443e+02,  1.02382349e+03,  1.59956718e+03,\n",
       "        4.75281014e+02,  5.86124331e+01,  6.98904020e+01,  6.54268327e+02,\n",
       "        1.30786967e+03,  1.51039928e+03,  7.13541921e+02,  4.26264422e+01,\n",
       "        3.42122077e+01,  1.11161454e+02,  2.67336529e+01,  4.60258031e+01,\n",
       "        2.37949845e+01,  8.16479848e+02,  8.66799265e+02,  2.43425795e+04,\n",
       "        1.50228107e+03,  1.09800025e+03,  1.78104873e+02,  8.98553598e+02,\n",
       "        6.02200869e+02,  1.10241659e+02,  1.51160542e+03])"
      ]
     },
     "execution_count": 98,
     "metadata": {},
     "output_type": "execute_result"
    }
   ],
   "source": [
    "svr= SVR(C=10,gamma=10,kernel='poly')\n",
    "svr.fit(X_train,y_train)\n",
    "svrpred = svr.predict(X_test)\n",
    "svrpred"
   ]
  },
  {
   "cell_type": "code",
   "execution_count": 99,
   "metadata": {},
   "outputs": [
    {
     "data": {
      "text/plain": [
       "-20.653684380797742"
      ]
     },
     "execution_count": 99,
     "metadata": {},
     "output_type": "execute_result"
    }
   ],
   "source": [
    "r2_score(y_test,svrpred)"
   ]
  },
  {
   "cell_type": "code",
   "execution_count": 100,
   "metadata": {},
   "outputs": [
    {
     "data": {
      "text/plain": [
       "array([ 334.38835961, 2616.11698173,  331.63854854,  481.35872143,\n",
       "        402.10085283,  345.11768989,  846.3354693 ,  360.40416531,\n",
       "       4181.22949511,  363.4017177 ,  331.41884357,  480.63361542,\n",
       "        347.57754553,  337.59854281,  665.78023266,  332.49459511,\n",
       "        356.81819725, 1037.80013925,  346.59151521,  443.91729991,\n",
       "       3646.72453023,  667.86983692,  404.03584632,  336.9437782 ,\n",
       "        360.02935077,  476.81484298,  391.35883862,  340.25772354,\n",
       "        397.43658443,  334.60186243,  331.85335197,  801.44711185,\n",
       "       3828.83404258, 2663.64911694, 3031.89943505,  458.9726615 ,\n",
       "        331.67959194, 1125.68136185,  705.6227008 ,  339.33693379,\n",
       "        895.97458318, 2222.95472665,  337.22114912,  332.12873624,\n",
       "        872.46566788,  375.17936506, 1042.20294146,  692.67119197,\n",
       "        429.02267723,  338.10034733,  333.71798001,  372.59409753,\n",
       "        458.13176253,  581.58476919,  386.61393604,  332.94786307,\n",
       "        333.00748429,  340.71367675,  332.30545712,  334.06912798,\n",
       "        331.37709501,  468.69013011,  465.40557056,  930.59991721,\n",
       "        546.16401296,  425.56614543,  337.3640716 ,  369.86029073,\n",
       "        399.73125876,  360.41473291,  448.68438067])"
      ]
     },
     "execution_count": 100,
     "metadata": {},
     "output_type": "execute_result"
    }
   ],
   "source": [
    "svr= SVR(C=10,gamma=10,kernel='linear')\n",
    "svr.fit(X_train,y_train)\n",
    "svrpred = svr.predict(X_test)\n",
    "svrpred"
   ]
  },
  {
   "cell_type": "code",
   "execution_count": 101,
   "metadata": {},
   "outputs": [
    {
     "data": {
      "text/plain": [
       "-0.08272710233250602"
      ]
     },
     "execution_count": 101,
     "metadata": {},
     "output_type": "execute_result"
    }
   ],
   "source": [
    "r2_score(y_test,svrpred)"
   ]
  },
  {
   "cell_type": "code",
   "execution_count": 102,
   "metadata": {},
   "outputs": [
    {
     "data": {
      "text/plain": [
       "array([-3.45127836e-01,  1.42831656e-02, -5.02493832e-01, -2.28293913e-01,\n",
       "       -3.16335650e-01, -1.26674908e+03,  2.61058480e-01,  1.82731602e-01,\n",
       "       -2.89651123e+03,  3.10717125e-02, -3.50816815e-01, -5.67805463e-01,\n",
       "       -5.21884907e+00,  6.42181345e-02, -2.06834373e+00, -9.13620151e+01,\n",
       "        6.83113009e-02,  6.12957555e-02, -5.03996249e-01, -8.90999738e+03,\n",
       "       -3.08971295e+00, -1.59483201e-01, -2.25756394e-01,  7.33535814e-01,\n",
       "        2.68205707e-01,  3.27788442e-01,  4.41381199e-01, -1.05658863e-03,\n",
       "       -3.78372561e-01,  1.42457607e-01, -2.24505536e-02, -2.23593222e-01,\n",
       "       -3.94642884e+01, -8.08108417e-02, -4.77174420e-01, -1.90079691e+00,\n",
       "       -3.37693141e+04,  2.64482127e-01,  2.04868500e-01, -4.95689731e-02,\n",
       "       -7.06926159e-01, -7.39197823e+00,  5.55533061e-01, -1.34097015e+00,\n",
       "        4.07260468e-01,  2.04935169e-01, -3.13936151e+00, -3.99359858e+04,\n",
       "       -8.35895444e+01, -1.21952795e+01])"
      ]
     },
     "execution_count": 102,
     "metadata": {},
     "output_type": "execute_result"
    }
   ],
   "source": [
    "cvs = cross_val_score(SVR(C=10,gamma=10,kernel='poly'),X,y,cv=50)\n",
    "cvs"
   ]
  },
  {
   "cell_type": "code",
   "execution_count": 103,
   "metadata": {},
   "outputs": [
    {
     "data": {
      "text/plain": [
       "-1740.6045068807696"
      ]
     },
     "execution_count": 103,
     "metadata": {},
     "output_type": "execute_result"
    }
   ],
   "source": [
    "cvs.mean()"
   ]
  },
  {
   "cell_type": "code",
   "execution_count": 104,
   "metadata": {},
   "outputs": [
    {
     "data": {
      "text/plain": [
       "0.7335358139298805"
      ]
     },
     "execution_count": 104,
     "metadata": {},
     "output_type": "execute_result"
    }
   ],
   "source": [
    "cvs.max()"
   ]
  },
  {
   "cell_type": "code",
   "execution_count": 105,
   "metadata": {},
   "outputs": [
    {
     "data": {
      "text/plain": [
       "RandomizedSearchCV(cv=None, error_score=nan,\n",
       "                   estimator=KNeighborsRegressor(algorithm='auto', leaf_size=30,\n",
       "                                                 metric='minkowski',\n",
       "                                                 metric_params=None,\n",
       "                                                 n_jobs=None, n_neighbors=5,\n",
       "                                                 p=2, weights='uniform'),\n",
       "                   iid='deprecated', n_iter=10, n_jobs=None,\n",
       "                   param_distributions={'n_neighbors': range(1, 50)},\n",
       "                   pre_dispatch='2*n_jobs', random_state=None, refit=True,\n",
       "                   return_train_score=False, scoring=None, verbose=0)"
      ]
     },
     "execution_count": 105,
     "metadata": {},
     "output_type": "execute_result"
    }
   ],
   "source": [
    "knn = KNeighborsRegressor()\n",
    "params = {'n_neighbors': range(1,50)}\n",
    "rscv = RandomizedSearchCV(knn,param_distributions=params)\n",
    "rscv.fit(X_train,y_train)"
   ]
  },
  {
   "cell_type": "code",
   "execution_count": 106,
   "metadata": {},
   "outputs": [
    {
     "data": {
      "text/plain": [
       "{'n_neighbors': 5}"
      ]
     },
     "execution_count": 106,
     "metadata": {},
     "output_type": "execute_result"
    }
   ],
   "source": [
    "rscv.best_params_"
   ]
  },
  {
   "cell_type": "code",
   "execution_count": 107,
   "metadata": {},
   "outputs": [
    {
     "data": {
      "text/plain": [
       "array([7.140000e+01, 4.003160e+04, 1.220000e+01, 4.499200e+03,\n",
       "       8.646000e+02, 2.400000e+01, 1.002840e+04, 6.096000e+02,\n",
       "       1.912142e+05, 5.686000e+02, 1.220000e+01, 4.503400e+03,\n",
       "       9.700000e+01, 4.300000e+01, 8.642400e+03, 2.480000e+01,\n",
       "       1.288000e+02, 2.946220e+04, 2.400000e+01, 3.540200e+03,\n",
       "       1.888496e+05, 7.034600e+03, 8.646000e+02, 6.560000e+01,\n",
       "       3.346000e+02, 4.499200e+03, 5.722000e+02, 8.240000e+01,\n",
       "       3.669200e+03, 1.894000e+02, 1.840000e+01, 3.412960e+04,\n",
       "       3.512220e+04, 4.003160e+04, 8.625800e+04, 2.241400e+03,\n",
       "       1.220000e+01, 2.330780e+04, 1.334920e+04, 9.120000e+01,\n",
       "       7.034600e+03, 3.512220e+04, 7.580000e+01, 6.200000e+00,\n",
       "       1.220700e+04, 5.542000e+02, 9.791400e+03, 1.362140e+04,\n",
       "       4.066600e+03, 5.700000e+01, 1.138000e+02, 8.932000e+02,\n",
       "       3.859000e+03, 9.550200e+03, 1.187400e+03, 7.240000e+01,\n",
       "       6.880000e+01, 4.850000e+02, 2.960000e+01, 1.140000e+01,\n",
       "       1.220000e+01, 4.499200e+03, 4.488200e+03, 1.220700e+04,\n",
       "       1.108420e+04, 3.850000e+02, 4.580000e+01, 1.113600e+03,\n",
       "       5.544000e+02, 1.100000e+02, 7.528000e+02])"
      ]
     },
     "execution_count": 107,
     "metadata": {},
     "output_type": "execute_result"
    }
   ],
   "source": [
    "knn=KNeighborsRegressor(n_neighbors=5)\n",
    "knn.fit(X_train,y_train)\n",
    "knnpred=knn.predict(X_test)\n",
    "knnpred"
   ]
  },
  {
   "cell_type": "code",
   "execution_count": 109,
   "metadata": {},
   "outputs": [
    {
     "data": {
      "text/plain": [
       "0.1877352945169688"
      ]
     },
     "execution_count": 109,
     "metadata": {},
     "output_type": "execute_result"
    }
   ],
   "source": [
    "r2_score(y_test,knnpred)"
   ]
  },
  {
   "cell_type": "code",
   "execution_count": 110,
   "metadata": {},
   "outputs": [
    {
     "data": {
      "text/plain": [
       "array([-6.77120872e-02,  9.20729541e-01,  6.75953623e-01,  1.68471942e-01,\n",
       "        8.86780185e-02,  9.21272942e-02,  2.13207000e-01,  5.34560743e-01,\n",
       "        5.07111164e-01,  6.07450425e-01,  3.78872927e-01,  3.57725680e-01,\n",
       "       -1.14000521e+01,  7.54486864e-01,  5.72628088e-01,  2.50575164e-01,\n",
       "        7.24635941e-01, -1.88308227e+00, -1.24727969e+00,  7.32723690e-01,\n",
       "        6.18429551e-01,  5.59496572e-01,  9.12092899e-01, -6.63727867e+00,\n",
       "        3.94336125e-01,  8.91865002e-01, -1.10930424e+00, -1.20728949e-01,\n",
       "       -5.89328256e-02,  7.05628299e-01,  4.71651879e-01,  4.49321994e-01,\n",
       "       -1.80462462e+01,  7.34853975e-01,  5.71064565e-01, -1.40561509e+00,\n",
       "       -7.97124896e+01,  7.14527123e-01, -3.06582076e+00,  9.78809768e-01,\n",
       "       -1.67023035e+01,  5.42099449e-01,  4.34219166e-01, -3.75770167e-03,\n",
       "       -9.95425183e+00,  7.61489233e-01,  1.41145645e-02,  2.03092698e-01,\n",
       "       -1.20265224e+03, -3.72331367e+01])"
      ]
     },
     "execution_count": 110,
     "metadata": {},
     "output_type": "execute_result"
    }
   ],
   "source": [
    "cvs = cross_val_score(KNeighborsRegressor(n_neighbors=8),X,y,cv=50)\n",
    "cvs"
   ]
  },
  {
   "cell_type": "code",
   "execution_count": 111,
   "metadata": {},
   "outputs": [
    {
     "data": {
      "text/plain": [
       "-27.475264052272788"
      ]
     },
     "execution_count": 111,
     "metadata": {},
     "output_type": "execute_result"
    }
   ],
   "source": [
    "cvs.mean()"
   ]
  },
  {
   "cell_type": "code",
   "execution_count": 112,
   "metadata": {},
   "outputs": [
    {
     "data": {
      "text/plain": [
       "0.978809768088672"
      ]
     },
     "execution_count": 112,
     "metadata": {},
     "output_type": "execute_result"
    }
   ],
   "source": [
    "cvs.max()"
   ]
  },
  {
   "cell_type": "code",
   "execution_count": 114,
   "metadata": {},
   "outputs": [],
   "source": [
    "ad=AdaBoostRegressor(n_estimators=50,base_estimator=RandomForestRegressor(criterion='mse'))\n",
    "ad.fit(X_train,y_train)\n",
    "predad=ad.predict(X_test)"
   ]
  },
  {
   "cell_type": "code",
   "execution_count": 116,
   "metadata": {},
   "outputs": [
    {
     "data": {
      "text/plain": [
       "0.6775832561080288"
      ]
     },
     "execution_count": 116,
     "metadata": {},
     "output_type": "execute_result"
    }
   ],
   "source": [
    "r2_score(y_test,predad)"
   ]
  },
  {
   "cell_type": "code",
   "execution_count": 117,
   "metadata": {},
   "outputs": [
    {
     "data": {
      "text/plain": [
       "array([1.4696000e+02, 2.0607107e+05, 1.9010000e+01, 5.2513000e+02,\n",
       "       1.7280000e+02, 1.9635000e+02, 1.8762400e+04, 7.6550000e+01,\n",
       "       3.1362131e+05, 1.8203700e+03, 1.2360000e+01, 1.1738660e+04,\n",
       "       1.6170000e+01, 6.1300000e+00, 1.1222580e+04, 8.7120000e+01,\n",
       "       3.2002000e+02, 5.8747970e+04, 3.7876000e+02, 1.1212600e+03,\n",
       "       3.9459115e+05, 6.8595000e+02, 8.9660000e+01, 8.0150000e+01,\n",
       "       2.3542000e+02, 3.4621000e+02, 8.5212000e+02, 2.1400000e+00,\n",
       "       9.6498000e+02, 1.7387000e+02, 1.9600000e+01, 5.1282120e+04,\n",
       "       3.0563378e+05, 1.7408073e+05, 3.0505042e+05, 2.2858000e+02,\n",
       "       1.7360000e+01, 5.7046250e+04, 1.3818240e+04, 2.1025000e+02,\n",
       "       2.3134480e+04, 2.8438614e+05, 2.3577000e+02, 1.4780000e+01,\n",
       "       1.6504280e+04, 2.5175800e+03, 3.7516730e+04, 1.6445050e+04,\n",
       "       1.6870950e+04, 6.5500000e+00, 1.7363000e+02, 1.1093000e+03,\n",
       "       8.1116800e+03, 7.7134800e+03, 4.1660400e+03, 5.0000000e+00,\n",
       "       7.6000000e+00, 7.4804000e+02, 9.7340000e+01, 8.2900000e+00,\n",
       "       6.1000000e+00, 2.3530000e+02, 8.7024500e+03, 1.8558390e+04,\n",
       "       1.0047370e+04, 8.2210000e+01, 1.5718000e+02, 4.8530000e+02,\n",
       "       5.6045000e+02, 2.1850000e+01, 1.8595600e+03])"
      ]
     },
     "execution_count": 117,
     "metadata": {},
     "output_type": "execute_result"
    }
   ],
   "source": [
    "rfr = RandomForestRegressor()\n",
    "rfr.fit(X_train,y_train)\n",
    "rfrpred = rfr.predict(X_test)\n",
    "rfrpred"
   ]
  },
  {
   "cell_type": "code",
   "execution_count": 118,
   "metadata": {},
   "outputs": [
    {
     "data": {
      "text/plain": [
       "0.5691248711961705"
      ]
     },
     "execution_count": 118,
     "metadata": {},
     "output_type": "execute_result"
    }
   ],
   "source": [
    "r2_score(y_test,rfrpred)"
   ]
  },
  {
   "cell_type": "code",
   "execution_count": 119,
   "metadata": {},
   "outputs": [
    {
     "data": {
      "text/plain": [
       "array([1.91705110e+02, 3.33368152e+05, 9.75885084e+01, 1.85614670e+03,\n",
       "       1.67207112e+02, 1.28187236e+02, 1.62172959e+04, 3.62441169e+02,\n",
       "       4.58828031e+05, 2.04796481e+03, 9.75885084e+01, 1.54416740e+04,\n",
       "       1.72401788e+02, 9.75885084e+01, 8.52955620e+03, 9.75885084e+01,\n",
       "       3.30292471e+02, 5.45819668e+04, 3.39195167e+02, 2.62601011e+03,\n",
       "       6.31263466e+05, 9.72474947e+02, 1.14186776e+02, 1.08936160e+02,\n",
       "       2.08425056e+02, 1.88950065e+03, 4.27261210e+02, 9.75885084e+01,\n",
       "       1.08160044e+03, 1.91705110e+02, 9.75885084e+01, 5.51180498e+04,\n",
       "       5.07723615e+05, 1.64235358e+05, 4.63860382e+05, 2.07318866e+03,\n",
       "       9.75885084e+01, 5.66128850e+04, 2.62086561e+02, 2.55479192e+02,\n",
       "       2.60404199e+04, 4.80540261e+05, 2.55479192e+02, 9.75885084e+01,\n",
       "       3.07908259e+03, 2.04394384e+03, 5.62767535e+04, 1.49782623e+04,\n",
       "       2.84351066e+04, 9.75885084e+01, 1.31357769e+02, 1.03361208e+03,\n",
       "       8.33754233e+03, 4.75529679e+03, 2.64285106e+03, 9.75885084e+01,\n",
       "       9.75885084e+01, 1.76170226e+03, 1.31357769e+02, 9.75885084e+01,\n",
       "       9.75885084e+01, 1.80926283e+03, 9.90543053e+03, 8.56020075e+03,\n",
       "       4.11293656e+03, 1.14186776e+02, 2.61433094e+02, 4.09601315e+02,\n",
       "       3.23147708e+02, 1.14186776e+02, 2.04121423e+03])"
      ]
     },
     "execution_count": 119,
     "metadata": {},
     "output_type": "execute_result"
    }
   ],
   "source": [
    "gbr= GradientBoostingRegressor()\n",
    "gbr.fit(X_train,y_train)\n",
    "gbrpred = gbr.predict(X_test)\n",
    "gbrpred"
   ]
  },
  {
   "cell_type": "code",
   "execution_count": 120,
   "metadata": {},
   "outputs": [
    {
     "data": {
      "text/plain": [
       "0.6802858293285861"
      ]
     },
     "execution_count": 120,
     "metadata": {},
     "output_type": "execute_result"
    }
   ],
   "source": [
    "r2_score(y_test,gbrpred)"
   ]
  },
  {
   "cell_type": "code",
   "execution_count": 121,
   "metadata": {},
   "outputs": [
    {
     "name": "stderr",
     "output_type": "stream",
     "text": [
      "C:\\Users\\abhishek30april\\ANACONDA\\lib\\site-packages\\sklearn\\externals\\joblib\\__init__.py:15: FutureWarning: sklearn.externals.joblib is deprecated in 0.21 and will be removed in 0.23. Please import this functionality directly from joblib, which can be installed with: pip install joblib. If this warning is raised when loading pickled models, you may need to re-serialize those models with scikit-learn 0.21+.\n",
      "  warnings.warn(msg, category=FutureWarning)\n"
     ]
    },
    {
     "data": {
      "text/plain": [
       "array([1.91705110e+02, 3.33368152e+05, 9.75885084e+01, 1.85614670e+03,\n",
       "       1.67207112e+02, 1.28187236e+02, 1.62172959e+04, 3.62441169e+02,\n",
       "       4.58828031e+05, 2.04796481e+03, 9.75885084e+01, 1.54416740e+04,\n",
       "       1.72401788e+02, 9.75885084e+01, 8.52955620e+03, 9.75885084e+01,\n",
       "       3.30292471e+02, 5.45819668e+04, 3.39195167e+02, 2.62601011e+03,\n",
       "       6.31263466e+05, 9.72474947e+02, 1.14186776e+02, 1.08936160e+02,\n",
       "       2.08425056e+02, 1.88950065e+03, 4.27261210e+02, 9.75885084e+01,\n",
       "       1.08160044e+03, 1.91705110e+02, 9.75885084e+01, 5.51180498e+04,\n",
       "       5.07723615e+05, 1.64235358e+05, 4.63860382e+05, 2.07318866e+03,\n",
       "       9.75885084e+01, 5.66128850e+04, 2.62086561e+02, 2.55479192e+02,\n",
       "       2.60404199e+04, 4.80540261e+05, 2.55479192e+02, 9.75885084e+01,\n",
       "       3.07908259e+03, 2.04394384e+03, 5.62767535e+04, 1.49782623e+04,\n",
       "       2.84351066e+04, 9.75885084e+01, 1.31357769e+02, 1.03361208e+03,\n",
       "       8.33754233e+03, 4.75529679e+03, 2.64285106e+03, 9.75885084e+01,\n",
       "       9.75885084e+01, 1.76170226e+03, 1.31357769e+02, 9.75885084e+01,\n",
       "       9.75885084e+01, 1.80926283e+03, 9.90543053e+03, 8.56020075e+03,\n",
       "       4.11293656e+03, 1.14186776e+02, 2.61433094e+02, 4.09601315e+02,\n",
       "       3.23147708e+02, 1.14186776e+02, 2.04121423e+03])"
      ]
     },
     "execution_count": 121,
     "metadata": {},
     "output_type": "execute_result"
    }
   ],
   "source": [
    "# DecisionTreeRegressor has the best accuracy of upto 70%\n",
    "from sklearn.externals import joblib\n",
    "\n",
    "joblib.dump(gbr,'coviddtrfile.obj')\n",
    "dtr_from_joblib=joblib.load('coviddtrfile.obj')\n",
    "dtr_from_joblib.predict(X_test)"
   ]
  },
  {
   "cell_type": "code",
   "execution_count": null,
   "metadata": {},
   "outputs": [],
   "source": []
  }
 ],
 "metadata": {
  "kernelspec": {
   "display_name": "Python 3",
   "language": "python",
   "name": "python3"
  },
  "language_info": {
   "codemirror_mode": {
    "name": "ipython",
    "version": 3
   },
   "file_extension": ".py",
   "mimetype": "text/x-python",
   "name": "python",
   "nbconvert_exporter": "python",
   "pygments_lexer": "ipython3",
   "version": "3.7.6"
  }
 },
 "nbformat": 4,
 "nbformat_minor": 4
}
